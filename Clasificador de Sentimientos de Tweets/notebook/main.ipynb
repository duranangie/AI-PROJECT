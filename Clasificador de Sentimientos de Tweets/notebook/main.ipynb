{
 "cells": [
  {
   "cell_type": "code",
   "execution_count": 37,
   "id": "33938710",
   "metadata": {},
   "outputs": [],
   "source": [
    "from textblob  import TextBlob\n",
    "import pandas as pd\n",
    "import matplotlib.pyplot as plt\n",
    "import nltk\n",
    "from nltk.sentiment.vader import SentimentIntensityAnalyzer"
   ]
  },
  {
   "cell_type": "code",
   "execution_count": 11,
   "id": "82c45eec",
   "metadata": {},
   "outputs": [
    {
     "data": {
      "application/vnd.microsoft.datawrangler.viewer.v0+json": {
       "columns": [
        {
         "name": "index",
         "rawType": "int64",
         "type": "integer"
        },
        {
         "name": "uno",
         "rawType": "int64",
         "type": "integer"
        },
        {
         "name": "dos",
         "rawType": "object",
         "type": "string"
        },
        {
         "name": "tres",
         "rawType": "object",
         "type": "string"
        },
        {
         "name": "cuatro",
         "rawType": "object",
         "type": "string"
        },
        {
         "name": "cinco",
         "rawType": "object",
         "type": "string"
        }
       ],
       "ref": "15c916a3-d31c-4c65-8c27-ded22881271f",
       "rows": [
        [
         "0",
         "1467810369",
         "Mon Apr 06 22:19:45 PDT 2009",
         "NO_QUERY",
         "_TheSpecialOne_",
         "@switchfoot http://twitpic.com/2y1zl - Awww, that's a bummer.  You shoulda got David Carr of Third Day to do it. ;D"
        ],
        [
         "0",
         "1467810672",
         "Mon Apr 06 22:19:49 PDT 2009",
         "NO_QUERY",
         "scotthamilton",
         "is upset that he can't update his Facebook by texting it... and might cry as a result  School today also. Blah!"
        ],
        [
         "0",
         "1467810917",
         "Mon Apr 06 22:19:53 PDT 2009",
         "NO_QUERY",
         "mattycus",
         "@Kenichan I dived many times for the ball. Managed to save 50%  The rest go out of bounds"
        ],
        [
         "0",
         "1467811184",
         "Mon Apr 06 22:19:57 PDT 2009",
         "NO_QUERY",
         "ElleCTF",
         "my whole body feels itchy and like its on fire "
        ],
        [
         "0",
         "1467811193",
         "Mon Apr 06 22:19:57 PDT 2009",
         "NO_QUERY",
         "Karoli",
         "@nationwideclass no, it's not behaving at all. i'm mad. why am i here? because I can't see you all over there. "
        ]
       ],
       "shape": {
        "columns": 5,
        "rows": 5
       }
      },
      "text/html": [
       "<div>\n",
       "<style scoped>\n",
       "    .dataframe tbody tr th:only-of-type {\n",
       "        vertical-align: middle;\n",
       "    }\n",
       "\n",
       "    .dataframe tbody tr th {\n",
       "        vertical-align: top;\n",
       "    }\n",
       "\n",
       "    .dataframe thead th {\n",
       "        text-align: right;\n",
       "    }\n",
       "</style>\n",
       "<table border=\"1\" class=\"dataframe\">\n",
       "  <thead>\n",
       "    <tr style=\"text-align: right;\">\n",
       "      <th></th>\n",
       "      <th>uno</th>\n",
       "      <th>dos</th>\n",
       "      <th>tres</th>\n",
       "      <th>cuatro</th>\n",
       "      <th>cinco</th>\n",
       "    </tr>\n",
       "  </thead>\n",
       "  <tbody>\n",
       "    <tr>\n",
       "      <th>0</th>\n",
       "      <td>1467810369</td>\n",
       "      <td>Mon Apr 06 22:19:45 PDT 2009</td>\n",
       "      <td>NO_QUERY</td>\n",
       "      <td>_TheSpecialOne_</td>\n",
       "      <td>@switchfoot http://twitpic.com/2y1zl - Awww, t...</td>\n",
       "    </tr>\n",
       "    <tr>\n",
       "      <th>0</th>\n",
       "      <td>1467810672</td>\n",
       "      <td>Mon Apr 06 22:19:49 PDT 2009</td>\n",
       "      <td>NO_QUERY</td>\n",
       "      <td>scotthamilton</td>\n",
       "      <td>is upset that he can't update his Facebook by ...</td>\n",
       "    </tr>\n",
       "    <tr>\n",
       "      <th>0</th>\n",
       "      <td>1467810917</td>\n",
       "      <td>Mon Apr 06 22:19:53 PDT 2009</td>\n",
       "      <td>NO_QUERY</td>\n",
       "      <td>mattycus</td>\n",
       "      <td>@Kenichan I dived many times for the ball. Man...</td>\n",
       "    </tr>\n",
       "    <tr>\n",
       "      <th>0</th>\n",
       "      <td>1467811184</td>\n",
       "      <td>Mon Apr 06 22:19:57 PDT 2009</td>\n",
       "      <td>NO_QUERY</td>\n",
       "      <td>ElleCTF</td>\n",
       "      <td>my whole body feels itchy and like its on fire</td>\n",
       "    </tr>\n",
       "    <tr>\n",
       "      <th>0</th>\n",
       "      <td>1467811193</td>\n",
       "      <td>Mon Apr 06 22:19:57 PDT 2009</td>\n",
       "      <td>NO_QUERY</td>\n",
       "      <td>Karoli</td>\n",
       "      <td>@nationwideclass no, it's not behaving at all....</td>\n",
       "    </tr>\n",
       "  </tbody>\n",
       "</table>\n",
       "</div>"
      ],
      "text/plain": [
       "          uno                           dos      tres           cuatro  \\\n",
       "0  1467810369  Mon Apr 06 22:19:45 PDT 2009  NO_QUERY  _TheSpecialOne_   \n",
       "0  1467810672  Mon Apr 06 22:19:49 PDT 2009  NO_QUERY    scotthamilton   \n",
       "0  1467810917  Mon Apr 06 22:19:53 PDT 2009  NO_QUERY         mattycus   \n",
       "0  1467811184  Mon Apr 06 22:19:57 PDT 2009  NO_QUERY          ElleCTF   \n",
       "0  1467811193  Mon Apr 06 22:19:57 PDT 2009  NO_QUERY           Karoli   \n",
       "\n",
       "                                               cinco  \n",
       "0  @switchfoot http://twitpic.com/2y1zl - Awww, t...  \n",
       "0  is upset that he can't update his Facebook by ...  \n",
       "0  @Kenichan I dived many times for the ball. Man...  \n",
       "0    my whole body feels itchy and like its on fire   \n",
       "0  @nationwideclass no, it's not behaving at all....  "
      ]
     },
     "execution_count": 11,
     "metadata": {},
     "output_type": "execute_result"
    }
   ],
   "source": [
    "df = pd.read_csv('../data/training.1600000.processed.noemoticon.csv',encoding='latin1')\n",
    "df.head()\n",
    "\n"
   ]
  },
  {
   "cell_type": "code",
   "execution_count": 12,
   "id": "8e5b9fa0",
   "metadata": {},
   "outputs": [
    {
     "data": {
      "application/vnd.microsoft.datawrangler.viewer.v0+json": {
       "columns": [
        {
         "name": "index",
         "rawType": "object",
         "type": "string"
        },
        {
         "name": "uno",
         "rawType": "float64",
         "type": "float"
        }
       ],
       "ref": "fd81ecd4-ee81-4b3e-a203-b4d021bd681f",
       "rows": [
        [
         "count",
         "1600000.0"
        ],
        [
         "mean",
         "1998817552.2956276"
        ],
        [
         "std",
         "193576073.6226761"
        ],
        [
         "min",
         "1467810369.0"
        ],
        [
         "25%",
         "1956915818.0"
        ],
        [
         "50%",
         "2002101855.0"
        ],
        [
         "75%",
         "2177059128.75"
        ],
        [
         "max",
         "2329205794.0"
        ]
       ],
       "shape": {
        "columns": 1,
        "rows": 8
       }
      },
      "text/html": [
       "<div>\n",
       "<style scoped>\n",
       "    .dataframe tbody tr th:only-of-type {\n",
       "        vertical-align: middle;\n",
       "    }\n",
       "\n",
       "    .dataframe tbody tr th {\n",
       "        vertical-align: top;\n",
       "    }\n",
       "\n",
       "    .dataframe thead th {\n",
       "        text-align: right;\n",
       "    }\n",
       "</style>\n",
       "<table border=\"1\" class=\"dataframe\">\n",
       "  <thead>\n",
       "    <tr style=\"text-align: right;\">\n",
       "      <th></th>\n",
       "      <th>uno</th>\n",
       "    </tr>\n",
       "  </thead>\n",
       "  <tbody>\n",
       "    <tr>\n",
       "      <th>count</th>\n",
       "      <td>1.600000e+06</td>\n",
       "    </tr>\n",
       "    <tr>\n",
       "      <th>mean</th>\n",
       "      <td>1.998818e+09</td>\n",
       "    </tr>\n",
       "    <tr>\n",
       "      <th>std</th>\n",
       "      <td>1.935761e+08</td>\n",
       "    </tr>\n",
       "    <tr>\n",
       "      <th>min</th>\n",
       "      <td>1.467810e+09</td>\n",
       "    </tr>\n",
       "    <tr>\n",
       "      <th>25%</th>\n",
       "      <td>1.956916e+09</td>\n",
       "    </tr>\n",
       "    <tr>\n",
       "      <th>50%</th>\n",
       "      <td>2.002102e+09</td>\n",
       "    </tr>\n",
       "    <tr>\n",
       "      <th>75%</th>\n",
       "      <td>2.177059e+09</td>\n",
       "    </tr>\n",
       "    <tr>\n",
       "      <th>max</th>\n",
       "      <td>2.329206e+09</td>\n",
       "    </tr>\n",
       "  </tbody>\n",
       "</table>\n",
       "</div>"
      ],
      "text/plain": [
       "                uno\n",
       "count  1.600000e+06\n",
       "mean   1.998818e+09\n",
       "std    1.935761e+08\n",
       "min    1.467810e+09\n",
       "25%    1.956916e+09\n",
       "50%    2.002102e+09\n",
       "75%    2.177059e+09\n",
       "max    2.329206e+09"
      ]
     },
     "execution_count": 12,
     "metadata": {},
     "output_type": "execute_result"
    }
   ],
   "source": [
    "df.describe()"
   ]
  },
  {
   "cell_type": "code",
   "execution_count": 13,
   "id": "280ec177",
   "metadata": {},
   "outputs": [
    {
     "data": {
      "application/vnd.microsoft.datawrangler.viewer.v0+json": {
       "columns": [
        {
         "name": "index",
         "rawType": "object",
         "type": "string"
        },
        {
         "name": "0",
         "rawType": "int64",
         "type": "integer"
        }
       ],
       "ref": "732444a9-b6df-4723-a171-0757a3c61e1c",
       "rows": [
        [
         "uno",
         "0"
        ],
        [
         "dos",
         "0"
        ],
        [
         "tres",
         "0"
        ],
        [
         "cuatro",
         "0"
        ],
        [
         "cinco",
         "0"
        ]
       ],
       "shape": {
        "columns": 1,
        "rows": 5
       }
      },
      "text/plain": [
       "uno       0\n",
       "dos       0\n",
       "tres      0\n",
       "cuatro    0\n",
       "cinco     0\n",
       "dtype: int64"
      ]
     },
     "execution_count": 13,
     "metadata": {},
     "output_type": "execute_result"
    }
   ],
   "source": [
    "df.isnull().sum()"
   ]
  },
  {
   "cell_type": "code",
   "execution_count": 14,
   "id": "4f0807f2",
   "metadata": {},
   "outputs": [
    {
     "data": {
      "application/vnd.microsoft.datawrangler.viewer.v0+json": {
       "columns": [
        {
         "name": "index",
         "rawType": "int64",
         "type": "integer"
        },
        {
         "name": "uno",
         "rawType": "int64",
         "type": "integer"
        },
        {
         "name": "dos",
         "rawType": "object",
         "type": "string"
        },
        {
         "name": "tres",
         "rawType": "object",
         "type": "string"
        },
        {
         "name": "cuatro",
         "rawType": "object",
         "type": "string"
        },
        {
         "name": "cinco",
         "rawType": "object",
         "type": "string"
        }
       ],
       "ref": "c1d725f1-50c0-470c-bc59-122a4aff9a7b",
       "rows": [
        [
         "0",
         "1467810369",
         "Mon Apr 06 22:19:45 PDT 2009",
         "NO_QUERY",
         "_TheSpecialOne_",
         "@switchfoot http://twitpic.com/2y1zl - Awww, that's a bummer.  You shoulda got David Carr of Third Day to do it. ;D"
        ],
        [
         "0",
         "1467810672",
         "Mon Apr 06 22:19:49 PDT 2009",
         "NO_QUERY",
         "scotthamilton",
         "is upset that he can't update his Facebook by texting it... and might cry as a result  School today also. Blah!"
        ],
        [
         "0",
         "1467810917",
         "Mon Apr 06 22:19:53 PDT 2009",
         "NO_QUERY",
         "mattycus",
         "@Kenichan I dived many times for the ball. Managed to save 50%  The rest go out of bounds"
        ],
        [
         "0",
         "1467811184",
         "Mon Apr 06 22:19:57 PDT 2009",
         "NO_QUERY",
         "ElleCTF",
         "my whole body feels itchy and like its on fire "
        ],
        [
         "0",
         "1467811193",
         "Mon Apr 06 22:19:57 PDT 2009",
         "NO_QUERY",
         "Karoli",
         "@nationwideclass no, it's not behaving at all. i'm mad. why am i here? because I can't see you all over there. "
        ],
        [
         "0",
         "1467811372",
         "Mon Apr 06 22:20:00 PDT 2009",
         "NO_QUERY",
         "joy_wolf",
         "@Kwesidei not the whole crew "
        ],
        [
         "0",
         "1467811592",
         "Mon Apr 06 22:20:03 PDT 2009",
         "NO_QUERY",
         "mybirch",
         "Need a hug "
        ],
        [
         "0",
         "1467811594",
         "Mon Apr 06 22:20:03 PDT 2009",
         "NO_QUERY",
         "coZZ",
         "@LOLTrish hey  long time no see! Yes.. Rains a bit ,only a bit  LOL , I'm fine thanks , how's you ?"
        ],
        [
         "0",
         "1467811795",
         "Mon Apr 06 22:20:05 PDT 2009",
         "NO_QUERY",
         "2Hood4Hollywood",
         "@Tatiana_K nope they didn't have it "
        ],
        [
         "0",
         "1467812025",
         "Mon Apr 06 22:20:09 PDT 2009",
         "NO_QUERY",
         "mimismo",
         "@twittera que me muera ? "
        ],
        [
         "0",
         "1467812416",
         "Mon Apr 06 22:20:16 PDT 2009",
         "NO_QUERY",
         "erinx3leannexo",
         "spring break in plain city... it's snowing "
        ],
        [
         "0",
         "1467812579",
         "Mon Apr 06 22:20:17 PDT 2009",
         "NO_QUERY",
         "pardonlauren",
         "I just re-pierced my ears "
        ],
        [
         "0",
         "1467812723",
         "Mon Apr 06 22:20:19 PDT 2009",
         "NO_QUERY",
         "TLeC",
         "@caregiving I couldn't bear to watch it.  And I thought the UA loss was embarrassing . . . . ."
        ],
        [
         "0",
         "1467812771",
         "Mon Apr 06 22:20:19 PDT 2009",
         "NO_QUERY",
         "robrobbierobert",
         "@octolinz16 It it counts, idk why I did either. you never talk to me anymore "
        ],
        [
         "0",
         "1467812784",
         "Mon Apr 06 22:20:20 PDT 2009",
         "NO_QUERY",
         "bayofwolves",
         "@smarrison i would've been the first, but i didn't have a gun.    not really though, zac snyder's just a doucheclown."
        ],
        [
         "0",
         "1467812799",
         "Mon Apr 06 22:20:20 PDT 2009",
         "NO_QUERY",
         "HairByJess",
         "@iamjazzyfizzle I wish I got to watch it with you!! I miss you and @iamlilnicki  how was the premiere?!"
        ],
        [
         "0",
         "1467812964",
         "Mon Apr 06 22:20:22 PDT 2009",
         "NO_QUERY",
         "lovesongwriter",
         "Hollis' death scene will hurt me severely to watch on film  wry is directors cut not out now?"
        ],
        [
         "0",
         "1467813137",
         "Mon Apr 06 22:20:25 PDT 2009",
         "NO_QUERY",
         "armotley",
         "about to file taxes "
        ],
        [
         "0",
         "1467813579",
         "Mon Apr 06 22:20:31 PDT 2009",
         "NO_QUERY",
         "starkissed",
         "@LettyA ahh ive always wanted to see rent  love the soundtrack!!"
        ],
        [
         "0",
         "1467813782",
         "Mon Apr 06 22:20:34 PDT 2009",
         "NO_QUERY",
         "gi_gi_bee",
         "@FakerPattyPattz Oh dear. Were you drinking out of the forgotten table drinks? "
        ],
        [
         "0",
         "1467813985",
         "Mon Apr 06 22:20:37 PDT 2009",
         "NO_QUERY",
         "quanvu",
         "@alydesigns i was out most of the day so didn't get much done "
        ],
        [
         "0",
         "1467813992",
         "Mon Apr 06 22:20:38 PDT 2009",
         "NO_QUERY",
         "swinspeedx",
         "one of my friend called me, and asked to meet with her at Mid Valley today...but i've no time *sigh* "
        ],
        [
         "0",
         "1467814119",
         "Mon Apr 06 22:20:40 PDT 2009",
         "NO_QUERY",
         "cooliodoc",
         "@angry_barista I baked you a cake but I ated it "
        ],
        [
         "0",
         "1467814180",
         "Mon Apr 06 22:20:40 PDT 2009",
         "NO_QUERY",
         "viJILLante",
         "this week is not going as i had hoped "
        ],
        [
         "0",
         "1467814192",
         "Mon Apr 06 22:20:41 PDT 2009",
         "NO_QUERY",
         "Ljelli3166",
         "blagh class at 8 tomorrow "
        ],
        [
         "0",
         "1467814438",
         "Mon Apr 06 22:20:44 PDT 2009",
         "NO_QUERY",
         "ChicagoCubbie",
         "I hate when I have to call and wake people up "
        ],
        [
         "0",
         "1467814783",
         "Mon Apr 06 22:20:50 PDT 2009",
         "NO_QUERY",
         "KatieAngell",
         "Just going to cry myself to sleep after watching Marley and Me.  "
        ],
        [
         "0",
         "1467814883",
         "Mon Apr 06 22:20:52 PDT 2009",
         "NO_QUERY",
         "gagoo",
         "im sad now  Miss.Lilly"
        ],
        [
         "0",
         "1467815199",
         "Mon Apr 06 22:20:56 PDT 2009",
         "NO_QUERY",
         "abel209",
         "ooooh.... LOL  that leslie.... and ok I won't do it again so leslie won't  get mad again "
        ],
        [
         "0",
         "1467815753",
         "Mon Apr 06 22:21:04 PDT 2009",
         "NO_QUERY",
         "BaptisteTheFool",
         "Meh... Almost Lover is the exception... this track gets me depressed every time. "
        ],
        [
         "0",
         "1467815923",
         "Mon Apr 06 22:21:07 PDT 2009",
         "NO_QUERY",
         "fatkat309",
         "some1 hacked my account on aim  now i have to make a new one"
        ],
        [
         "0",
         "1467815924",
         "Mon Apr 06 22:21:07 PDT 2009",
         "NO_QUERY",
         "EmCDL",
         "@alielayus I want to go to promote GEAR AND GROOVE but unfornately no ride there  I may b going to the one in Anaheim in May though"
        ],
        [
         "0",
         "1467815988",
         "Mon Apr 06 22:21:09 PDT 2009",
         "NO_QUERY",
         "merisssa",
         "thought sleeping in was an option tomorrow but realizing that it now is not. evaluations in the morning and work in the afternoon! "
        ],
        [
         "0",
         "1467816149",
         "Mon Apr 06 22:21:11 PDT 2009",
         "NO_QUERY",
         "Pbearfox",
         "@julieebaby awe i love you too!!!! 1 am here  i miss you"
        ],
        [
         "0",
         "1467816665",
         "Mon Apr 06 22:21:21 PDT 2009",
         "NO_QUERY",
         "jsoo",
         "@HumpNinja I cry my asian eyes to sleep at night "
        ],
        [
         "0",
         "1467816749",
         "Mon Apr 06 22:21:20 PDT 2009",
         "NO_QUERY",
         "scarletletterm",
         "ok I'm sick and spent an hour sitting in the shower cause I was too sick to stand and held back the puke like a champ. BED now "
        ],
        [
         "0",
         "1467817225",
         "Mon Apr 06 22:21:27 PDT 2009",
         "NO_QUERY",
         "crosland_12",
         "@cocomix04 ill tell ya the story later  not a good day and ill be workin for like three more hours..."
        ],
        [
         "0",
         "1467817374",
         "Mon Apr 06 22:21:30 PDT 2009",
         "NO_QUERY",
         "ajaxpro",
         "@MissXu sorry! bed time came here (GMT+1)   http://is.gd/fNge"
        ],
        [
         "0",
         "1467817502",
         "Mon Apr 06 22:21:32 PDT 2009",
         "NO_QUERY",
         "Tmttq86",
         "@fleurylis I don't either. Its depressing. I don't think I even want to know about the kids in suitcases. "
        ],
        [
         "0",
         "1467818007",
         "Mon Apr 06 22:21:39 PDT 2009",
         "NO_QUERY",
         "Anthony_Nguyen",
         "Bed. Class 8-12. Work 12-3. Gym 3-5 or 6. Then class 6-10. Another day that's gonna fly by. I miss my girlfriend "
        ],
        [
         "0",
         "1467818020",
         "Mon Apr 06 22:21:39 PDT 2009",
         "NO_QUERY",
         "itsanimesh",
         "really don't feel like getting up today... but got to study to for tomorrows practical exam... "
        ],
        [
         "0",
         "1467818481",
         "Mon Apr 06 22:21:46 PDT 2009",
         "NO_QUERY",
         "lionslamb",
         "He's the reason for the teardrops on my guitar the only one who has enough of me to break my heart "
        ],
        [
         "0",
         "1467818603",
         "Mon Apr 06 22:21:49 PDT 2009",
         "NO_QUERY",
         "kennypham",
         "Sad, sad, sad. I don't know why but I hate this feeling  I wanna sleep and I still can't!"
        ],
        [
         "0",
         "1467818900",
         "Mon Apr 06 22:21:53 PDT 2009",
         "NO_QUERY",
         "DdubsShellBell",
         "@JonathanRKnight Awww I soo wish I was there to see you finally comfortable! Im sad that I missed it "
        ],
        [
         "0",
         "1467819022",
         "Mon Apr 06 22:21:56 PDT 2009",
         "NO_QUERY",
         "hpfangirl94",
         "Falling asleep. Just heard about that Tracy girl's body being found. How sad  My heart breaks for that family."
        ],
        [
         "0",
         "1467819650",
         "Mon Apr 06 22:22:05 PDT 2009",
         "NO_QUERY",
         "antzpantz",
         "@Viennah Yay! I'm happy for you with your job! But that also means less time for me and you... "
        ],
        [
         "0",
         "1467819712",
         "Mon Apr 06 22:22:06 PDT 2009",
         "NO_QUERY",
         "labrt2004",
         "Just checked my user timeline on my blackberry, it looks like the twanking is still happening  Are ppl still having probs w/ BGs and UIDs?"
        ],
        [
         "0",
         "1467819812",
         "Mon Apr 06 22:22:07 PDT 2009",
         "NO_QUERY",
         "IrisJumbe",
         "Oh man...was ironing @jeancjumbe's fave top to wear to a meeting. Burnt it "
        ],
        [
         "0",
         "1467820206",
         "Mon Apr 06 22:22:13 PDT 2009",
         "NO_QUERY",
         "peacoats",
         "is strangely sad about LiLo and SamRo breaking up. "
        ],
        [
         "0",
         "1467820835",
         "Mon Apr 06 22:22:25 PDT 2009",
         "NO_QUERY",
         "cyantist",
         "@tea oh! i'm so sorry  i didn't think about that before retweeting."
        ]
       ],
       "shape": {
        "columns": 5,
        "rows": 1600000
       }
      },
      "text/html": [
       "<div>\n",
       "<style scoped>\n",
       "    .dataframe tbody tr th:only-of-type {\n",
       "        vertical-align: middle;\n",
       "    }\n",
       "\n",
       "    .dataframe tbody tr th {\n",
       "        vertical-align: top;\n",
       "    }\n",
       "\n",
       "    .dataframe thead th {\n",
       "        text-align: right;\n",
       "    }\n",
       "</style>\n",
       "<table border=\"1\" class=\"dataframe\">\n",
       "  <thead>\n",
       "    <tr style=\"text-align: right;\">\n",
       "      <th></th>\n",
       "      <th>uno</th>\n",
       "      <th>dos</th>\n",
       "      <th>tres</th>\n",
       "      <th>cuatro</th>\n",
       "      <th>cinco</th>\n",
       "    </tr>\n",
       "  </thead>\n",
       "  <tbody>\n",
       "    <tr>\n",
       "      <th>0</th>\n",
       "      <td>1467810369</td>\n",
       "      <td>Mon Apr 06 22:19:45 PDT 2009</td>\n",
       "      <td>NO_QUERY</td>\n",
       "      <td>_TheSpecialOne_</td>\n",
       "      <td>@switchfoot http://twitpic.com/2y1zl - Awww, t...</td>\n",
       "    </tr>\n",
       "    <tr>\n",
       "      <th>0</th>\n",
       "      <td>1467810672</td>\n",
       "      <td>Mon Apr 06 22:19:49 PDT 2009</td>\n",
       "      <td>NO_QUERY</td>\n",
       "      <td>scotthamilton</td>\n",
       "      <td>is upset that he can't update his Facebook by ...</td>\n",
       "    </tr>\n",
       "    <tr>\n",
       "      <th>0</th>\n",
       "      <td>1467810917</td>\n",
       "      <td>Mon Apr 06 22:19:53 PDT 2009</td>\n",
       "      <td>NO_QUERY</td>\n",
       "      <td>mattycus</td>\n",
       "      <td>@Kenichan I dived many times for the ball. Man...</td>\n",
       "    </tr>\n",
       "    <tr>\n",
       "      <th>0</th>\n",
       "      <td>1467811184</td>\n",
       "      <td>Mon Apr 06 22:19:57 PDT 2009</td>\n",
       "      <td>NO_QUERY</td>\n",
       "      <td>ElleCTF</td>\n",
       "      <td>my whole body feels itchy and like its on fire</td>\n",
       "    </tr>\n",
       "    <tr>\n",
       "      <th>0</th>\n",
       "      <td>1467811193</td>\n",
       "      <td>Mon Apr 06 22:19:57 PDT 2009</td>\n",
       "      <td>NO_QUERY</td>\n",
       "      <td>Karoli</td>\n",
       "      <td>@nationwideclass no, it's not behaving at all....</td>\n",
       "    </tr>\n",
       "    <tr>\n",
       "      <th>...</th>\n",
       "      <td>...</td>\n",
       "      <td>...</td>\n",
       "      <td>...</td>\n",
       "      <td>...</td>\n",
       "      <td>...</td>\n",
       "    </tr>\n",
       "    <tr>\n",
       "      <th>4</th>\n",
       "      <td>2193601966</td>\n",
       "      <td>Tue Jun 16 08:40:49 PDT 2009</td>\n",
       "      <td>NO_QUERY</td>\n",
       "      <td>AmandaMarie1028</td>\n",
       "      <td>Just woke up. Having no school is the best fee...</td>\n",
       "    </tr>\n",
       "    <tr>\n",
       "      <th>4</th>\n",
       "      <td>2193601969</td>\n",
       "      <td>Tue Jun 16 08:40:49 PDT 2009</td>\n",
       "      <td>NO_QUERY</td>\n",
       "      <td>TheWDBoards</td>\n",
       "      <td>TheWDB.com - Very cool to hear old Walt interv...</td>\n",
       "    </tr>\n",
       "    <tr>\n",
       "      <th>4</th>\n",
       "      <td>2193601991</td>\n",
       "      <td>Tue Jun 16 08:40:49 PDT 2009</td>\n",
       "      <td>NO_QUERY</td>\n",
       "      <td>bpbabe</td>\n",
       "      <td>Are you ready for your MoJo Makeover? Ask me f...</td>\n",
       "    </tr>\n",
       "    <tr>\n",
       "      <th>4</th>\n",
       "      <td>2193602064</td>\n",
       "      <td>Tue Jun 16 08:40:49 PDT 2009</td>\n",
       "      <td>NO_QUERY</td>\n",
       "      <td>tinydiamondz</td>\n",
       "      <td>Happy 38th Birthday to my boo of alll time!!! ...</td>\n",
       "    </tr>\n",
       "    <tr>\n",
       "      <th>4</th>\n",
       "      <td>2193602129</td>\n",
       "      <td>Tue Jun 16 08:40:50 PDT 2009</td>\n",
       "      <td>NO_QUERY</td>\n",
       "      <td>RyanTrevMorris</td>\n",
       "      <td>happy #charitytuesday @theNSPCC @SparksCharity...</td>\n",
       "    </tr>\n",
       "  </tbody>\n",
       "</table>\n",
       "<p>1600000 rows × 5 columns</p>\n",
       "</div>"
      ],
      "text/plain": [
       "           uno                           dos      tres           cuatro  \\\n",
       "0   1467810369  Mon Apr 06 22:19:45 PDT 2009  NO_QUERY  _TheSpecialOne_   \n",
       "0   1467810672  Mon Apr 06 22:19:49 PDT 2009  NO_QUERY    scotthamilton   \n",
       "0   1467810917  Mon Apr 06 22:19:53 PDT 2009  NO_QUERY         mattycus   \n",
       "0   1467811184  Mon Apr 06 22:19:57 PDT 2009  NO_QUERY          ElleCTF   \n",
       "0   1467811193  Mon Apr 06 22:19:57 PDT 2009  NO_QUERY           Karoli   \n",
       "..         ...                           ...       ...              ...   \n",
       "4   2193601966  Tue Jun 16 08:40:49 PDT 2009  NO_QUERY  AmandaMarie1028   \n",
       "4   2193601969  Tue Jun 16 08:40:49 PDT 2009  NO_QUERY      TheWDBoards   \n",
       "4   2193601991  Tue Jun 16 08:40:49 PDT 2009  NO_QUERY           bpbabe   \n",
       "4   2193602064  Tue Jun 16 08:40:49 PDT 2009  NO_QUERY     tinydiamondz   \n",
       "4   2193602129  Tue Jun 16 08:40:50 PDT 2009  NO_QUERY   RyanTrevMorris   \n",
       "\n",
       "                                                cinco  \n",
       "0   @switchfoot http://twitpic.com/2y1zl - Awww, t...  \n",
       "0   is upset that he can't update his Facebook by ...  \n",
       "0   @Kenichan I dived many times for the ball. Man...  \n",
       "0     my whole body feels itchy and like its on fire   \n",
       "0   @nationwideclass no, it's not behaving at all....  \n",
       "..                                                ...  \n",
       "4   Just woke up. Having no school is the best fee...  \n",
       "4   TheWDB.com - Very cool to hear old Walt interv...  \n",
       "4   Are you ready for your MoJo Makeover? Ask me f...  \n",
       "4   Happy 38th Birthday to my boo of alll time!!! ...  \n",
       "4   happy #charitytuesday @theNSPCC @SparksCharity...  \n",
       "\n",
       "[1600000 rows x 5 columns]"
      ]
     },
     "execution_count": 14,
     "metadata": {},
     "output_type": "execute_result"
    }
   ],
   "source": [
    "df.dropna()"
   ]
  },
  {
   "cell_type": "code",
   "execution_count": 15,
   "id": "68f2147b",
   "metadata": {},
   "outputs": [],
   "source": [
    "df_duplicate = df.drop_duplicates()"
   ]
  },
  {
   "cell_type": "code",
   "execution_count": 16,
   "id": "645bbeb8",
   "metadata": {},
   "outputs": [
    {
     "data": {
      "application/vnd.microsoft.datawrangler.viewer.v0+json": {
       "columns": [
        {
         "name": "index",
         "rawType": "int64",
         "type": "integer"
        },
        {
         "name": "uno",
         "rawType": "int64",
         "type": "integer"
        },
        {
         "name": "dos",
         "rawType": "object",
         "type": "string"
        },
        {
         "name": "tres",
         "rawType": "object",
         "type": "string"
        },
        {
         "name": "cuatro",
         "rawType": "object",
         "type": "string"
        },
        {
         "name": "cinco",
         "rawType": "object",
         "type": "string"
        }
       ],
       "ref": "4d38256e-d315-4704-878e-120403179055",
       "rows": [
        [
         "0",
         "1467810369",
         "Mon Apr 06 22:19:45 PDT 2009",
         "NO_QUERY",
         "_TheSpecialOne_",
         "@switchfoot http://twitpic.com/2y1zl - Awww, that's a bummer.  You shoulda got David Carr of Third Day to do it. ;D"
        ],
        [
         "0",
         "1467810672",
         "Mon Apr 06 22:19:49 PDT 2009",
         "NO_QUERY",
         "scotthamilton",
         "is upset that he can't update his Facebook by texting it... and might cry as a result  School today also. Blah!"
        ],
        [
         "0",
         "1467810917",
         "Mon Apr 06 22:19:53 PDT 2009",
         "NO_QUERY",
         "mattycus",
         "@Kenichan I dived many times for the ball. Managed to save 50%  The rest go out of bounds"
        ],
        [
         "0",
         "1467811184",
         "Mon Apr 06 22:19:57 PDT 2009",
         "NO_QUERY",
         "ElleCTF",
         "my whole body feels itchy and like its on fire "
        ],
        [
         "0",
         "1467811193",
         "Mon Apr 06 22:19:57 PDT 2009",
         "NO_QUERY",
         "Karoli",
         "@nationwideclass no, it's not behaving at all. i'm mad. why am i here? because I can't see you all over there. "
        ],
        [
         "0",
         "1467811372",
         "Mon Apr 06 22:20:00 PDT 2009",
         "NO_QUERY",
         "joy_wolf",
         "@Kwesidei not the whole crew "
        ],
        [
         "0",
         "1467811592",
         "Mon Apr 06 22:20:03 PDT 2009",
         "NO_QUERY",
         "mybirch",
         "Need a hug "
        ],
        [
         "0",
         "1467811594",
         "Mon Apr 06 22:20:03 PDT 2009",
         "NO_QUERY",
         "coZZ",
         "@LOLTrish hey  long time no see! Yes.. Rains a bit ,only a bit  LOL , I'm fine thanks , how's you ?"
        ],
        [
         "0",
         "1467811795",
         "Mon Apr 06 22:20:05 PDT 2009",
         "NO_QUERY",
         "2Hood4Hollywood",
         "@Tatiana_K nope they didn't have it "
        ],
        [
         "0",
         "1467812025",
         "Mon Apr 06 22:20:09 PDT 2009",
         "NO_QUERY",
         "mimismo",
         "@twittera que me muera ? "
        ],
        [
         "0",
         "1467812416",
         "Mon Apr 06 22:20:16 PDT 2009",
         "NO_QUERY",
         "erinx3leannexo",
         "spring break in plain city... it's snowing "
        ],
        [
         "0",
         "1467812579",
         "Mon Apr 06 22:20:17 PDT 2009",
         "NO_QUERY",
         "pardonlauren",
         "I just re-pierced my ears "
        ],
        [
         "0",
         "1467812723",
         "Mon Apr 06 22:20:19 PDT 2009",
         "NO_QUERY",
         "TLeC",
         "@caregiving I couldn't bear to watch it.  And I thought the UA loss was embarrassing . . . . ."
        ],
        [
         "0",
         "1467812771",
         "Mon Apr 06 22:20:19 PDT 2009",
         "NO_QUERY",
         "robrobbierobert",
         "@octolinz16 It it counts, idk why I did either. you never talk to me anymore "
        ],
        [
         "0",
         "1467812784",
         "Mon Apr 06 22:20:20 PDT 2009",
         "NO_QUERY",
         "bayofwolves",
         "@smarrison i would've been the first, but i didn't have a gun.    not really though, zac snyder's just a doucheclown."
        ],
        [
         "0",
         "1467812799",
         "Mon Apr 06 22:20:20 PDT 2009",
         "NO_QUERY",
         "HairByJess",
         "@iamjazzyfizzle I wish I got to watch it with you!! I miss you and @iamlilnicki  how was the premiere?!"
        ],
        [
         "0",
         "1467812964",
         "Mon Apr 06 22:20:22 PDT 2009",
         "NO_QUERY",
         "lovesongwriter",
         "Hollis' death scene will hurt me severely to watch on film  wry is directors cut not out now?"
        ],
        [
         "0",
         "1467813137",
         "Mon Apr 06 22:20:25 PDT 2009",
         "NO_QUERY",
         "armotley",
         "about to file taxes "
        ],
        [
         "0",
         "1467813579",
         "Mon Apr 06 22:20:31 PDT 2009",
         "NO_QUERY",
         "starkissed",
         "@LettyA ahh ive always wanted to see rent  love the soundtrack!!"
        ],
        [
         "0",
         "1467813782",
         "Mon Apr 06 22:20:34 PDT 2009",
         "NO_QUERY",
         "gi_gi_bee",
         "@FakerPattyPattz Oh dear. Were you drinking out of the forgotten table drinks? "
        ],
        [
         "0",
         "1467813985",
         "Mon Apr 06 22:20:37 PDT 2009",
         "NO_QUERY",
         "quanvu",
         "@alydesigns i was out most of the day so didn't get much done "
        ],
        [
         "0",
         "1467813992",
         "Mon Apr 06 22:20:38 PDT 2009",
         "NO_QUERY",
         "swinspeedx",
         "one of my friend called me, and asked to meet with her at Mid Valley today...but i've no time *sigh* "
        ],
        [
         "0",
         "1467814119",
         "Mon Apr 06 22:20:40 PDT 2009",
         "NO_QUERY",
         "cooliodoc",
         "@angry_barista I baked you a cake but I ated it "
        ],
        [
         "0",
         "1467814180",
         "Mon Apr 06 22:20:40 PDT 2009",
         "NO_QUERY",
         "viJILLante",
         "this week is not going as i had hoped "
        ],
        [
         "0",
         "1467814192",
         "Mon Apr 06 22:20:41 PDT 2009",
         "NO_QUERY",
         "Ljelli3166",
         "blagh class at 8 tomorrow "
        ],
        [
         "0",
         "1467814438",
         "Mon Apr 06 22:20:44 PDT 2009",
         "NO_QUERY",
         "ChicagoCubbie",
         "I hate when I have to call and wake people up "
        ],
        [
         "0",
         "1467814783",
         "Mon Apr 06 22:20:50 PDT 2009",
         "NO_QUERY",
         "KatieAngell",
         "Just going to cry myself to sleep after watching Marley and Me.  "
        ],
        [
         "0",
         "1467814883",
         "Mon Apr 06 22:20:52 PDT 2009",
         "NO_QUERY",
         "gagoo",
         "im sad now  Miss.Lilly"
        ],
        [
         "0",
         "1467815199",
         "Mon Apr 06 22:20:56 PDT 2009",
         "NO_QUERY",
         "abel209",
         "ooooh.... LOL  that leslie.... and ok I won't do it again so leslie won't  get mad again "
        ],
        [
         "0",
         "1467815753",
         "Mon Apr 06 22:21:04 PDT 2009",
         "NO_QUERY",
         "BaptisteTheFool",
         "Meh... Almost Lover is the exception... this track gets me depressed every time. "
        ],
        [
         "0",
         "1467815923",
         "Mon Apr 06 22:21:07 PDT 2009",
         "NO_QUERY",
         "fatkat309",
         "some1 hacked my account on aim  now i have to make a new one"
        ],
        [
         "0",
         "1467815924",
         "Mon Apr 06 22:21:07 PDT 2009",
         "NO_QUERY",
         "EmCDL",
         "@alielayus I want to go to promote GEAR AND GROOVE but unfornately no ride there  I may b going to the one in Anaheim in May though"
        ],
        [
         "0",
         "1467815988",
         "Mon Apr 06 22:21:09 PDT 2009",
         "NO_QUERY",
         "merisssa",
         "thought sleeping in was an option tomorrow but realizing that it now is not. evaluations in the morning and work in the afternoon! "
        ],
        [
         "0",
         "1467816149",
         "Mon Apr 06 22:21:11 PDT 2009",
         "NO_QUERY",
         "Pbearfox",
         "@julieebaby awe i love you too!!!! 1 am here  i miss you"
        ],
        [
         "0",
         "1467816665",
         "Mon Apr 06 22:21:21 PDT 2009",
         "NO_QUERY",
         "jsoo",
         "@HumpNinja I cry my asian eyes to sleep at night "
        ],
        [
         "0",
         "1467816749",
         "Mon Apr 06 22:21:20 PDT 2009",
         "NO_QUERY",
         "scarletletterm",
         "ok I'm sick and spent an hour sitting in the shower cause I was too sick to stand and held back the puke like a champ. BED now "
        ],
        [
         "0",
         "1467817225",
         "Mon Apr 06 22:21:27 PDT 2009",
         "NO_QUERY",
         "crosland_12",
         "@cocomix04 ill tell ya the story later  not a good day and ill be workin for like three more hours..."
        ],
        [
         "0",
         "1467817374",
         "Mon Apr 06 22:21:30 PDT 2009",
         "NO_QUERY",
         "ajaxpro",
         "@MissXu sorry! bed time came here (GMT+1)   http://is.gd/fNge"
        ],
        [
         "0",
         "1467817502",
         "Mon Apr 06 22:21:32 PDT 2009",
         "NO_QUERY",
         "Tmttq86",
         "@fleurylis I don't either. Its depressing. I don't think I even want to know about the kids in suitcases. "
        ],
        [
         "0",
         "1467818007",
         "Mon Apr 06 22:21:39 PDT 2009",
         "NO_QUERY",
         "Anthony_Nguyen",
         "Bed. Class 8-12. Work 12-3. Gym 3-5 or 6. Then class 6-10. Another day that's gonna fly by. I miss my girlfriend "
        ],
        [
         "0",
         "1467818020",
         "Mon Apr 06 22:21:39 PDT 2009",
         "NO_QUERY",
         "itsanimesh",
         "really don't feel like getting up today... but got to study to for tomorrows practical exam... "
        ],
        [
         "0",
         "1467818481",
         "Mon Apr 06 22:21:46 PDT 2009",
         "NO_QUERY",
         "lionslamb",
         "He's the reason for the teardrops on my guitar the only one who has enough of me to break my heart "
        ],
        [
         "0",
         "1467818603",
         "Mon Apr 06 22:21:49 PDT 2009",
         "NO_QUERY",
         "kennypham",
         "Sad, sad, sad. I don't know why but I hate this feeling  I wanna sleep and I still can't!"
        ],
        [
         "0",
         "1467818900",
         "Mon Apr 06 22:21:53 PDT 2009",
         "NO_QUERY",
         "DdubsShellBell",
         "@JonathanRKnight Awww I soo wish I was there to see you finally comfortable! Im sad that I missed it "
        ],
        [
         "0",
         "1467819022",
         "Mon Apr 06 22:21:56 PDT 2009",
         "NO_QUERY",
         "hpfangirl94",
         "Falling asleep. Just heard about that Tracy girl's body being found. How sad  My heart breaks for that family."
        ],
        [
         "0",
         "1467819650",
         "Mon Apr 06 22:22:05 PDT 2009",
         "NO_QUERY",
         "antzpantz",
         "@Viennah Yay! I'm happy for you with your job! But that also means less time for me and you... "
        ],
        [
         "0",
         "1467819712",
         "Mon Apr 06 22:22:06 PDT 2009",
         "NO_QUERY",
         "labrt2004",
         "Just checked my user timeline on my blackberry, it looks like the twanking is still happening  Are ppl still having probs w/ BGs and UIDs?"
        ],
        [
         "0",
         "1467819812",
         "Mon Apr 06 22:22:07 PDT 2009",
         "NO_QUERY",
         "IrisJumbe",
         "Oh man...was ironing @jeancjumbe's fave top to wear to a meeting. Burnt it "
        ],
        [
         "0",
         "1467820206",
         "Mon Apr 06 22:22:13 PDT 2009",
         "NO_QUERY",
         "peacoats",
         "is strangely sad about LiLo and SamRo breaking up. "
        ],
        [
         "0",
         "1467820835",
         "Mon Apr 06 22:22:25 PDT 2009",
         "NO_QUERY",
         "cyantist",
         "@tea oh! i'm so sorry  i didn't think about that before retweeting."
        ]
       ],
       "shape": {
        "columns": 5,
        "rows": 1600000
       }
      },
      "text/html": [
       "<div>\n",
       "<style scoped>\n",
       "    .dataframe tbody tr th:only-of-type {\n",
       "        vertical-align: middle;\n",
       "    }\n",
       "\n",
       "    .dataframe tbody tr th {\n",
       "        vertical-align: top;\n",
       "    }\n",
       "\n",
       "    .dataframe thead th {\n",
       "        text-align: right;\n",
       "    }\n",
       "</style>\n",
       "<table border=\"1\" class=\"dataframe\">\n",
       "  <thead>\n",
       "    <tr style=\"text-align: right;\">\n",
       "      <th></th>\n",
       "      <th>uno</th>\n",
       "      <th>dos</th>\n",
       "      <th>tres</th>\n",
       "      <th>cuatro</th>\n",
       "      <th>cinco</th>\n",
       "    </tr>\n",
       "  </thead>\n",
       "  <tbody>\n",
       "    <tr>\n",
       "      <th>0</th>\n",
       "      <td>1467810369</td>\n",
       "      <td>Mon Apr 06 22:19:45 PDT 2009</td>\n",
       "      <td>NO_QUERY</td>\n",
       "      <td>_TheSpecialOne_</td>\n",
       "      <td>@switchfoot http://twitpic.com/2y1zl - Awww, t...</td>\n",
       "    </tr>\n",
       "    <tr>\n",
       "      <th>0</th>\n",
       "      <td>1467810672</td>\n",
       "      <td>Mon Apr 06 22:19:49 PDT 2009</td>\n",
       "      <td>NO_QUERY</td>\n",
       "      <td>scotthamilton</td>\n",
       "      <td>is upset that he can't update his Facebook by ...</td>\n",
       "    </tr>\n",
       "    <tr>\n",
       "      <th>0</th>\n",
       "      <td>1467810917</td>\n",
       "      <td>Mon Apr 06 22:19:53 PDT 2009</td>\n",
       "      <td>NO_QUERY</td>\n",
       "      <td>mattycus</td>\n",
       "      <td>@Kenichan I dived many times for the ball. Man...</td>\n",
       "    </tr>\n",
       "    <tr>\n",
       "      <th>0</th>\n",
       "      <td>1467811184</td>\n",
       "      <td>Mon Apr 06 22:19:57 PDT 2009</td>\n",
       "      <td>NO_QUERY</td>\n",
       "      <td>ElleCTF</td>\n",
       "      <td>my whole body feels itchy and like its on fire</td>\n",
       "    </tr>\n",
       "    <tr>\n",
       "      <th>0</th>\n",
       "      <td>1467811193</td>\n",
       "      <td>Mon Apr 06 22:19:57 PDT 2009</td>\n",
       "      <td>NO_QUERY</td>\n",
       "      <td>Karoli</td>\n",
       "      <td>@nationwideclass no, it's not behaving at all....</td>\n",
       "    </tr>\n",
       "    <tr>\n",
       "      <th>...</th>\n",
       "      <td>...</td>\n",
       "      <td>...</td>\n",
       "      <td>...</td>\n",
       "      <td>...</td>\n",
       "      <td>...</td>\n",
       "    </tr>\n",
       "    <tr>\n",
       "      <th>4</th>\n",
       "      <td>2193601966</td>\n",
       "      <td>Tue Jun 16 08:40:49 PDT 2009</td>\n",
       "      <td>NO_QUERY</td>\n",
       "      <td>AmandaMarie1028</td>\n",
       "      <td>Just woke up. Having no school is the best fee...</td>\n",
       "    </tr>\n",
       "    <tr>\n",
       "      <th>4</th>\n",
       "      <td>2193601969</td>\n",
       "      <td>Tue Jun 16 08:40:49 PDT 2009</td>\n",
       "      <td>NO_QUERY</td>\n",
       "      <td>TheWDBoards</td>\n",
       "      <td>TheWDB.com - Very cool to hear old Walt interv...</td>\n",
       "    </tr>\n",
       "    <tr>\n",
       "      <th>4</th>\n",
       "      <td>2193601991</td>\n",
       "      <td>Tue Jun 16 08:40:49 PDT 2009</td>\n",
       "      <td>NO_QUERY</td>\n",
       "      <td>bpbabe</td>\n",
       "      <td>Are you ready for your MoJo Makeover? Ask me f...</td>\n",
       "    </tr>\n",
       "    <tr>\n",
       "      <th>4</th>\n",
       "      <td>2193602064</td>\n",
       "      <td>Tue Jun 16 08:40:49 PDT 2009</td>\n",
       "      <td>NO_QUERY</td>\n",
       "      <td>tinydiamondz</td>\n",
       "      <td>Happy 38th Birthday to my boo of alll time!!! ...</td>\n",
       "    </tr>\n",
       "    <tr>\n",
       "      <th>4</th>\n",
       "      <td>2193602129</td>\n",
       "      <td>Tue Jun 16 08:40:50 PDT 2009</td>\n",
       "      <td>NO_QUERY</td>\n",
       "      <td>RyanTrevMorris</td>\n",
       "      <td>happy #charitytuesday @theNSPCC @SparksCharity...</td>\n",
       "    </tr>\n",
       "  </tbody>\n",
       "</table>\n",
       "<p>1600000 rows × 5 columns</p>\n",
       "</div>"
      ],
      "text/plain": [
       "           uno                           dos      tres           cuatro  \\\n",
       "0   1467810369  Mon Apr 06 22:19:45 PDT 2009  NO_QUERY  _TheSpecialOne_   \n",
       "0   1467810672  Mon Apr 06 22:19:49 PDT 2009  NO_QUERY    scotthamilton   \n",
       "0   1467810917  Mon Apr 06 22:19:53 PDT 2009  NO_QUERY         mattycus   \n",
       "0   1467811184  Mon Apr 06 22:19:57 PDT 2009  NO_QUERY          ElleCTF   \n",
       "0   1467811193  Mon Apr 06 22:19:57 PDT 2009  NO_QUERY           Karoli   \n",
       "..         ...                           ...       ...              ...   \n",
       "4   2193601966  Tue Jun 16 08:40:49 PDT 2009  NO_QUERY  AmandaMarie1028   \n",
       "4   2193601969  Tue Jun 16 08:40:49 PDT 2009  NO_QUERY      TheWDBoards   \n",
       "4   2193601991  Tue Jun 16 08:40:49 PDT 2009  NO_QUERY           bpbabe   \n",
       "4   2193602064  Tue Jun 16 08:40:49 PDT 2009  NO_QUERY     tinydiamondz   \n",
       "4   2193602129  Tue Jun 16 08:40:50 PDT 2009  NO_QUERY   RyanTrevMorris   \n",
       "\n",
       "                                                cinco  \n",
       "0   @switchfoot http://twitpic.com/2y1zl - Awww, t...  \n",
       "0   is upset that he can't update his Facebook by ...  \n",
       "0   @Kenichan I dived many times for the ball. Man...  \n",
       "0     my whole body feels itchy and like its on fire   \n",
       "0   @nationwideclass no, it's not behaving at all....  \n",
       "..                                                ...  \n",
       "4   Just woke up. Having no school is the best fee...  \n",
       "4   TheWDB.com - Very cool to hear old Walt interv...  \n",
       "4   Are you ready for your MoJo Makeover? Ask me f...  \n",
       "4   Happy 38th Birthday to my boo of alll time!!! ...  \n",
       "4   happy #charitytuesday @theNSPCC @SparksCharity...  \n",
       "\n",
       "[1600000 rows x 5 columns]"
      ]
     },
     "execution_count": 16,
     "metadata": {},
     "output_type": "execute_result"
    }
   ],
   "source": [
    "df"
   ]
  },
  {
   "cell_type": "code",
   "execution_count": 17,
   "id": "fec8bb2e",
   "metadata": {},
   "outputs": [],
   "source": [
    "df['cinco'] = df['cinco'].str.replace(r'[@]','',regex=True)\n",
    "#df['cinco'] = df['cinco'].str.replace(r\"[http://\\.com.co]\",'')\n"
   ]
  },
  {
   "cell_type": "code",
   "execution_count": 18,
   "id": "ea375177",
   "metadata": {},
   "outputs": [
    {
     "data": {
      "application/vnd.microsoft.datawrangler.viewer.v0+json": {
       "columns": [
        {
         "name": "index",
         "rawType": "int64",
         "type": "integer"
        },
        {
         "name": "uno",
         "rawType": "int64",
         "type": "integer"
        },
        {
         "name": "dos",
         "rawType": "object",
         "type": "string"
        },
        {
         "name": "tres",
         "rawType": "object",
         "type": "string"
        },
        {
         "name": "cuatro",
         "rawType": "object",
         "type": "string"
        },
        {
         "name": "cinco",
         "rawType": "object",
         "type": "string"
        }
       ],
       "ref": "d32c4628-206f-440e-9d6f-5ff66a0747a5",
       "rows": [
        [
         "0",
         "1467810369",
         "Mon Apr 06 22:19:45 PDT 2009",
         "NO_QUERY",
         "_TheSpecialOne_",
         "switchfoot http://twitpic.com/2y1zl - Awww, that's a bummer.  You shoulda got David Carr of Third Day to do it. ;D"
        ],
        [
         "0",
         "1467810672",
         "Mon Apr 06 22:19:49 PDT 2009",
         "NO_QUERY",
         "scotthamilton",
         "is upset that he can't update his Facebook by texting it... and might cry as a result  School today also. Blah!"
        ],
        [
         "0",
         "1467810917",
         "Mon Apr 06 22:19:53 PDT 2009",
         "NO_QUERY",
         "mattycus",
         "Kenichan I dived many times for the ball. Managed to save 50%  The rest go out of bounds"
        ],
        [
         "0",
         "1467811184",
         "Mon Apr 06 22:19:57 PDT 2009",
         "NO_QUERY",
         "ElleCTF",
         "my whole body feels itchy and like its on fire "
        ],
        [
         "0",
         "1467811193",
         "Mon Apr 06 22:19:57 PDT 2009",
         "NO_QUERY",
         "Karoli",
         "nationwideclass no, it's not behaving at all. i'm mad. why am i here? because I can't see you all over there. "
        ],
        [
         "0",
         "1467811372",
         "Mon Apr 06 22:20:00 PDT 2009",
         "NO_QUERY",
         "joy_wolf",
         "Kwesidei not the whole crew "
        ],
        [
         "0",
         "1467811592",
         "Mon Apr 06 22:20:03 PDT 2009",
         "NO_QUERY",
         "mybirch",
         "Need a hug "
        ],
        [
         "0",
         "1467811594",
         "Mon Apr 06 22:20:03 PDT 2009",
         "NO_QUERY",
         "coZZ",
         "LOLTrish hey  long time no see! Yes.. Rains a bit ,only a bit  LOL , I'm fine thanks , how's you ?"
        ],
        [
         "0",
         "1467811795",
         "Mon Apr 06 22:20:05 PDT 2009",
         "NO_QUERY",
         "2Hood4Hollywood",
         "Tatiana_K nope they didn't have it "
        ],
        [
         "0",
         "1467812025",
         "Mon Apr 06 22:20:09 PDT 2009",
         "NO_QUERY",
         "mimismo",
         "twittera que me muera ? "
        ],
        [
         "0",
         "1467812416",
         "Mon Apr 06 22:20:16 PDT 2009",
         "NO_QUERY",
         "erinx3leannexo",
         "spring break in plain city... it's snowing "
        ],
        [
         "0",
         "1467812579",
         "Mon Apr 06 22:20:17 PDT 2009",
         "NO_QUERY",
         "pardonlauren",
         "I just re-pierced my ears "
        ],
        [
         "0",
         "1467812723",
         "Mon Apr 06 22:20:19 PDT 2009",
         "NO_QUERY",
         "TLeC",
         "caregiving I couldn't bear to watch it.  And I thought the UA loss was embarrassing . . . . ."
        ],
        [
         "0",
         "1467812771",
         "Mon Apr 06 22:20:19 PDT 2009",
         "NO_QUERY",
         "robrobbierobert",
         "octolinz16 It it counts, idk why I did either. you never talk to me anymore "
        ],
        [
         "0",
         "1467812784",
         "Mon Apr 06 22:20:20 PDT 2009",
         "NO_QUERY",
         "bayofwolves",
         "smarrison i would've been the first, but i didn't have a gun.    not really though, zac snyder's just a doucheclown."
        ],
        [
         "0",
         "1467812799",
         "Mon Apr 06 22:20:20 PDT 2009",
         "NO_QUERY",
         "HairByJess",
         "iamjazzyfizzle I wish I got to watch it with you!! I miss you and iamlilnicki  how was the premiere?!"
        ],
        [
         "0",
         "1467812964",
         "Mon Apr 06 22:20:22 PDT 2009",
         "NO_QUERY",
         "lovesongwriter",
         "Hollis' death scene will hurt me severely to watch on film  wry is directors cut not out now?"
        ],
        [
         "0",
         "1467813137",
         "Mon Apr 06 22:20:25 PDT 2009",
         "NO_QUERY",
         "armotley",
         "about to file taxes "
        ],
        [
         "0",
         "1467813579",
         "Mon Apr 06 22:20:31 PDT 2009",
         "NO_QUERY",
         "starkissed",
         "LettyA ahh ive always wanted to see rent  love the soundtrack!!"
        ],
        [
         "0",
         "1467813782",
         "Mon Apr 06 22:20:34 PDT 2009",
         "NO_QUERY",
         "gi_gi_bee",
         "FakerPattyPattz Oh dear. Were you drinking out of the forgotten table drinks? "
        ],
        [
         "0",
         "1467813985",
         "Mon Apr 06 22:20:37 PDT 2009",
         "NO_QUERY",
         "quanvu",
         "alydesigns i was out most of the day so didn't get much done "
        ],
        [
         "0",
         "1467813992",
         "Mon Apr 06 22:20:38 PDT 2009",
         "NO_QUERY",
         "swinspeedx",
         "one of my friend called me, and asked to meet with her at Mid Valley today...but i've no time *sigh* "
        ],
        [
         "0",
         "1467814119",
         "Mon Apr 06 22:20:40 PDT 2009",
         "NO_QUERY",
         "cooliodoc",
         "angry_barista I baked you a cake but I ated it "
        ],
        [
         "0",
         "1467814180",
         "Mon Apr 06 22:20:40 PDT 2009",
         "NO_QUERY",
         "viJILLante",
         "this week is not going as i had hoped "
        ],
        [
         "0",
         "1467814192",
         "Mon Apr 06 22:20:41 PDT 2009",
         "NO_QUERY",
         "Ljelli3166",
         "blagh class at 8 tomorrow "
        ],
        [
         "0",
         "1467814438",
         "Mon Apr 06 22:20:44 PDT 2009",
         "NO_QUERY",
         "ChicagoCubbie",
         "I hate when I have to call and wake people up "
        ],
        [
         "0",
         "1467814783",
         "Mon Apr 06 22:20:50 PDT 2009",
         "NO_QUERY",
         "KatieAngell",
         "Just going to cry myself to sleep after watching Marley and Me.  "
        ],
        [
         "0",
         "1467814883",
         "Mon Apr 06 22:20:52 PDT 2009",
         "NO_QUERY",
         "gagoo",
         "im sad now  Miss.Lilly"
        ],
        [
         "0",
         "1467815199",
         "Mon Apr 06 22:20:56 PDT 2009",
         "NO_QUERY",
         "abel209",
         "ooooh.... LOL  that leslie.... and ok I won't do it again so leslie won't  get mad again "
        ],
        [
         "0",
         "1467815753",
         "Mon Apr 06 22:21:04 PDT 2009",
         "NO_QUERY",
         "BaptisteTheFool",
         "Meh... Almost Lover is the exception... this track gets me depressed every time. "
        ],
        [
         "0",
         "1467815923",
         "Mon Apr 06 22:21:07 PDT 2009",
         "NO_QUERY",
         "fatkat309",
         "some1 hacked my account on aim  now i have to make a new one"
        ],
        [
         "0",
         "1467815924",
         "Mon Apr 06 22:21:07 PDT 2009",
         "NO_QUERY",
         "EmCDL",
         "alielayus I want to go to promote GEAR AND GROOVE but unfornately no ride there  I may b going to the one in Anaheim in May though"
        ],
        [
         "0",
         "1467815988",
         "Mon Apr 06 22:21:09 PDT 2009",
         "NO_QUERY",
         "merisssa",
         "thought sleeping in was an option tomorrow but realizing that it now is not. evaluations in the morning and work in the afternoon! "
        ],
        [
         "0",
         "1467816149",
         "Mon Apr 06 22:21:11 PDT 2009",
         "NO_QUERY",
         "Pbearfox",
         "julieebaby awe i love you too!!!! 1 am here  i miss you"
        ],
        [
         "0",
         "1467816665",
         "Mon Apr 06 22:21:21 PDT 2009",
         "NO_QUERY",
         "jsoo",
         "HumpNinja I cry my asian eyes to sleep at night "
        ],
        [
         "0",
         "1467816749",
         "Mon Apr 06 22:21:20 PDT 2009",
         "NO_QUERY",
         "scarletletterm",
         "ok I'm sick and spent an hour sitting in the shower cause I was too sick to stand and held back the puke like a champ. BED now "
        ],
        [
         "0",
         "1467817225",
         "Mon Apr 06 22:21:27 PDT 2009",
         "NO_QUERY",
         "crosland_12",
         "cocomix04 ill tell ya the story later  not a good day and ill be workin for like three more hours..."
        ],
        [
         "0",
         "1467817374",
         "Mon Apr 06 22:21:30 PDT 2009",
         "NO_QUERY",
         "ajaxpro",
         "MissXu sorry! bed time came here (GMT+1)   http://is.gd/fNge"
        ],
        [
         "0",
         "1467817502",
         "Mon Apr 06 22:21:32 PDT 2009",
         "NO_QUERY",
         "Tmttq86",
         "fleurylis I don't either. Its depressing. I don't think I even want to know about the kids in suitcases. "
        ],
        [
         "0",
         "1467818007",
         "Mon Apr 06 22:21:39 PDT 2009",
         "NO_QUERY",
         "Anthony_Nguyen",
         "Bed. Class 8-12. Work 12-3. Gym 3-5 or 6. Then class 6-10. Another day that's gonna fly by. I miss my girlfriend "
        ],
        [
         "0",
         "1467818020",
         "Mon Apr 06 22:21:39 PDT 2009",
         "NO_QUERY",
         "itsanimesh",
         "really don't feel like getting up today... but got to study to for tomorrows practical exam... "
        ],
        [
         "0",
         "1467818481",
         "Mon Apr 06 22:21:46 PDT 2009",
         "NO_QUERY",
         "lionslamb",
         "He's the reason for the teardrops on my guitar the only one who has enough of me to break my heart "
        ],
        [
         "0",
         "1467818603",
         "Mon Apr 06 22:21:49 PDT 2009",
         "NO_QUERY",
         "kennypham",
         "Sad, sad, sad. I don't know why but I hate this feeling  I wanna sleep and I still can't!"
        ],
        [
         "0",
         "1467818900",
         "Mon Apr 06 22:21:53 PDT 2009",
         "NO_QUERY",
         "DdubsShellBell",
         "JonathanRKnight Awww I soo wish I was there to see you finally comfortable! Im sad that I missed it "
        ],
        [
         "0",
         "1467819022",
         "Mon Apr 06 22:21:56 PDT 2009",
         "NO_QUERY",
         "hpfangirl94",
         "Falling asleep. Just heard about that Tracy girl's body being found. How sad  My heart breaks for that family."
        ],
        [
         "0",
         "1467819650",
         "Mon Apr 06 22:22:05 PDT 2009",
         "NO_QUERY",
         "antzpantz",
         "Viennah Yay! I'm happy for you with your job! But that also means less time for me and you... "
        ],
        [
         "0",
         "1467819712",
         "Mon Apr 06 22:22:06 PDT 2009",
         "NO_QUERY",
         "labrt2004",
         "Just checked my user timeline on my blackberry, it looks like the twanking is still happening  Are ppl still having probs w/ BGs and UIDs?"
        ],
        [
         "0",
         "1467819812",
         "Mon Apr 06 22:22:07 PDT 2009",
         "NO_QUERY",
         "IrisJumbe",
         "Oh man...was ironing jeancjumbe's fave top to wear to a meeting. Burnt it "
        ],
        [
         "0",
         "1467820206",
         "Mon Apr 06 22:22:13 PDT 2009",
         "NO_QUERY",
         "peacoats",
         "is strangely sad about LiLo and SamRo breaking up. "
        ],
        [
         "0",
         "1467820835",
         "Mon Apr 06 22:22:25 PDT 2009",
         "NO_QUERY",
         "cyantist",
         "tea oh! i'm so sorry  i didn't think about that before retweeting."
        ]
       ],
       "shape": {
        "columns": 5,
        "rows": 1600000
       }
      },
      "text/html": [
       "<div>\n",
       "<style scoped>\n",
       "    .dataframe tbody tr th:only-of-type {\n",
       "        vertical-align: middle;\n",
       "    }\n",
       "\n",
       "    .dataframe tbody tr th {\n",
       "        vertical-align: top;\n",
       "    }\n",
       "\n",
       "    .dataframe thead th {\n",
       "        text-align: right;\n",
       "    }\n",
       "</style>\n",
       "<table border=\"1\" class=\"dataframe\">\n",
       "  <thead>\n",
       "    <tr style=\"text-align: right;\">\n",
       "      <th></th>\n",
       "      <th>uno</th>\n",
       "      <th>dos</th>\n",
       "      <th>tres</th>\n",
       "      <th>cuatro</th>\n",
       "      <th>cinco</th>\n",
       "    </tr>\n",
       "  </thead>\n",
       "  <tbody>\n",
       "    <tr>\n",
       "      <th>0</th>\n",
       "      <td>1467810369</td>\n",
       "      <td>Mon Apr 06 22:19:45 PDT 2009</td>\n",
       "      <td>NO_QUERY</td>\n",
       "      <td>_TheSpecialOne_</td>\n",
       "      <td>switchfoot http://twitpic.com/2y1zl - Awww, th...</td>\n",
       "    </tr>\n",
       "    <tr>\n",
       "      <th>0</th>\n",
       "      <td>1467810672</td>\n",
       "      <td>Mon Apr 06 22:19:49 PDT 2009</td>\n",
       "      <td>NO_QUERY</td>\n",
       "      <td>scotthamilton</td>\n",
       "      <td>is upset that he can't update his Facebook by ...</td>\n",
       "    </tr>\n",
       "    <tr>\n",
       "      <th>0</th>\n",
       "      <td>1467810917</td>\n",
       "      <td>Mon Apr 06 22:19:53 PDT 2009</td>\n",
       "      <td>NO_QUERY</td>\n",
       "      <td>mattycus</td>\n",
       "      <td>Kenichan I dived many times for the ball. Mana...</td>\n",
       "    </tr>\n",
       "    <tr>\n",
       "      <th>0</th>\n",
       "      <td>1467811184</td>\n",
       "      <td>Mon Apr 06 22:19:57 PDT 2009</td>\n",
       "      <td>NO_QUERY</td>\n",
       "      <td>ElleCTF</td>\n",
       "      <td>my whole body feels itchy and like its on fire</td>\n",
       "    </tr>\n",
       "    <tr>\n",
       "      <th>0</th>\n",
       "      <td>1467811193</td>\n",
       "      <td>Mon Apr 06 22:19:57 PDT 2009</td>\n",
       "      <td>NO_QUERY</td>\n",
       "      <td>Karoli</td>\n",
       "      <td>nationwideclass no, it's not behaving at all. ...</td>\n",
       "    </tr>\n",
       "    <tr>\n",
       "      <th>...</th>\n",
       "      <td>...</td>\n",
       "      <td>...</td>\n",
       "      <td>...</td>\n",
       "      <td>...</td>\n",
       "      <td>...</td>\n",
       "    </tr>\n",
       "    <tr>\n",
       "      <th>4</th>\n",
       "      <td>2193601966</td>\n",
       "      <td>Tue Jun 16 08:40:49 PDT 2009</td>\n",
       "      <td>NO_QUERY</td>\n",
       "      <td>AmandaMarie1028</td>\n",
       "      <td>Just woke up. Having no school is the best fee...</td>\n",
       "    </tr>\n",
       "    <tr>\n",
       "      <th>4</th>\n",
       "      <td>2193601969</td>\n",
       "      <td>Tue Jun 16 08:40:49 PDT 2009</td>\n",
       "      <td>NO_QUERY</td>\n",
       "      <td>TheWDBoards</td>\n",
       "      <td>TheWDB.com - Very cool to hear old Walt interv...</td>\n",
       "    </tr>\n",
       "    <tr>\n",
       "      <th>4</th>\n",
       "      <td>2193601991</td>\n",
       "      <td>Tue Jun 16 08:40:49 PDT 2009</td>\n",
       "      <td>NO_QUERY</td>\n",
       "      <td>bpbabe</td>\n",
       "      <td>Are you ready for your MoJo Makeover? Ask me f...</td>\n",
       "    </tr>\n",
       "    <tr>\n",
       "      <th>4</th>\n",
       "      <td>2193602064</td>\n",
       "      <td>Tue Jun 16 08:40:49 PDT 2009</td>\n",
       "      <td>NO_QUERY</td>\n",
       "      <td>tinydiamondz</td>\n",
       "      <td>Happy 38th Birthday to my boo of alll time!!! ...</td>\n",
       "    </tr>\n",
       "    <tr>\n",
       "      <th>4</th>\n",
       "      <td>2193602129</td>\n",
       "      <td>Tue Jun 16 08:40:50 PDT 2009</td>\n",
       "      <td>NO_QUERY</td>\n",
       "      <td>RyanTrevMorris</td>\n",
       "      <td>happy #charitytuesday theNSPCC SparksCharity S...</td>\n",
       "    </tr>\n",
       "  </tbody>\n",
       "</table>\n",
       "<p>1600000 rows × 5 columns</p>\n",
       "</div>"
      ],
      "text/plain": [
       "           uno                           dos      tres           cuatro  \\\n",
       "0   1467810369  Mon Apr 06 22:19:45 PDT 2009  NO_QUERY  _TheSpecialOne_   \n",
       "0   1467810672  Mon Apr 06 22:19:49 PDT 2009  NO_QUERY    scotthamilton   \n",
       "0   1467810917  Mon Apr 06 22:19:53 PDT 2009  NO_QUERY         mattycus   \n",
       "0   1467811184  Mon Apr 06 22:19:57 PDT 2009  NO_QUERY          ElleCTF   \n",
       "0   1467811193  Mon Apr 06 22:19:57 PDT 2009  NO_QUERY           Karoli   \n",
       "..         ...                           ...       ...              ...   \n",
       "4   2193601966  Tue Jun 16 08:40:49 PDT 2009  NO_QUERY  AmandaMarie1028   \n",
       "4   2193601969  Tue Jun 16 08:40:49 PDT 2009  NO_QUERY      TheWDBoards   \n",
       "4   2193601991  Tue Jun 16 08:40:49 PDT 2009  NO_QUERY           bpbabe   \n",
       "4   2193602064  Tue Jun 16 08:40:49 PDT 2009  NO_QUERY     tinydiamondz   \n",
       "4   2193602129  Tue Jun 16 08:40:50 PDT 2009  NO_QUERY   RyanTrevMorris   \n",
       "\n",
       "                                                cinco  \n",
       "0   switchfoot http://twitpic.com/2y1zl - Awww, th...  \n",
       "0   is upset that he can't update his Facebook by ...  \n",
       "0   Kenichan I dived many times for the ball. Mana...  \n",
       "0     my whole body feels itchy and like its on fire   \n",
       "0   nationwideclass no, it's not behaving at all. ...  \n",
       "..                                                ...  \n",
       "4   Just woke up. Having no school is the best fee...  \n",
       "4   TheWDB.com - Very cool to hear old Walt interv...  \n",
       "4   Are you ready for your MoJo Makeover? Ask me f...  \n",
       "4   Happy 38th Birthday to my boo of alll time!!! ...  \n",
       "4   happy #charitytuesday theNSPCC SparksCharity S...  \n",
       "\n",
       "[1600000 rows x 5 columns]"
      ]
     },
     "execution_count": 18,
     "metadata": {},
     "output_type": "execute_result"
    }
   ],
   "source": [
    "df"
   ]
  },
  {
   "cell_type": "code",
   "execution_count": 19,
   "id": "bc1c2699",
   "metadata": {},
   "outputs": [
    {
     "data": {
      "application/vnd.microsoft.datawrangler.viewer.v0+json": {
       "columns": [
        {
         "name": "index",
         "rawType": "int64",
         "type": "integer"
        },
        {
         "name": "uno",
         "rawType": "int64",
         "type": "integer"
        },
        {
         "name": "dos",
         "rawType": "object",
         "type": "string"
        },
        {
         "name": "tres",
         "rawType": "object",
         "type": "string"
        },
        {
         "name": "cuatro",
         "rawType": "object",
         "type": "string"
        },
        {
         "name": "cinco",
         "rawType": "object",
         "type": "string"
        }
       ],
       "ref": "9e691915-9921-46a9-8db1-9a66e579369a",
       "rows": [
        [
         "0",
         "1467810369",
         "Mon Apr 06 22:19:45 PDT 2009",
         "NO_QUERY",
         "_TheSpecialOne_",
         "switchfoot http://twitpic.com/2y1zl - awww, that's a bummer.  you shoulda got david carr of third day to do it. ;d"
        ],
        [
         "0",
         "1467810672",
         "Mon Apr 06 22:19:49 PDT 2009",
         "NO_QUERY",
         "scotthamilton",
         "is upset that he can't update his facebook by texting it... and might cry as a result  school today also. blah!"
        ],
        [
         "0",
         "1467810917",
         "Mon Apr 06 22:19:53 PDT 2009",
         "NO_QUERY",
         "mattycus",
         "kenichan i dived many times for the ball. managed to save 50%  the rest go out of bounds"
        ],
        [
         "0",
         "1467811184",
         "Mon Apr 06 22:19:57 PDT 2009",
         "NO_QUERY",
         "ElleCTF",
         "my whole body feels itchy and like its on fire "
        ],
        [
         "0",
         "1467811193",
         "Mon Apr 06 22:19:57 PDT 2009",
         "NO_QUERY",
         "Karoli",
         "nationwideclass no, it's not behaving at all. i'm mad. why am i here? because i can't see you all over there. "
        ],
        [
         "0",
         "1467811372",
         "Mon Apr 06 22:20:00 PDT 2009",
         "NO_QUERY",
         "joy_wolf",
         "kwesidei not the whole crew "
        ],
        [
         "0",
         "1467811592",
         "Mon Apr 06 22:20:03 PDT 2009",
         "NO_QUERY",
         "mybirch",
         "need a hug "
        ],
        [
         "0",
         "1467811594",
         "Mon Apr 06 22:20:03 PDT 2009",
         "NO_QUERY",
         "coZZ",
         "loltrish hey  long time no see! yes.. rains a bit ,only a bit  lol , i'm fine thanks , how's you ?"
        ],
        [
         "0",
         "1467811795",
         "Mon Apr 06 22:20:05 PDT 2009",
         "NO_QUERY",
         "2Hood4Hollywood",
         "tatiana_k nope they didn't have it "
        ],
        [
         "0",
         "1467812025",
         "Mon Apr 06 22:20:09 PDT 2009",
         "NO_QUERY",
         "mimismo",
         "twittera que me muera ? "
        ],
        [
         "0",
         "1467812416",
         "Mon Apr 06 22:20:16 PDT 2009",
         "NO_QUERY",
         "erinx3leannexo",
         "spring break in plain city... it's snowing "
        ],
        [
         "0",
         "1467812579",
         "Mon Apr 06 22:20:17 PDT 2009",
         "NO_QUERY",
         "pardonlauren",
         "i just re-pierced my ears "
        ],
        [
         "0",
         "1467812723",
         "Mon Apr 06 22:20:19 PDT 2009",
         "NO_QUERY",
         "TLeC",
         "caregiving i couldn't bear to watch it.  and i thought the ua loss was embarrassing . . . . ."
        ],
        [
         "0",
         "1467812771",
         "Mon Apr 06 22:20:19 PDT 2009",
         "NO_QUERY",
         "robrobbierobert",
         "octolinz16 it it counts, idk why i did either. you never talk to me anymore "
        ],
        [
         "0",
         "1467812784",
         "Mon Apr 06 22:20:20 PDT 2009",
         "NO_QUERY",
         "bayofwolves",
         "smarrison i would've been the first, but i didn't have a gun.    not really though, zac snyder's just a doucheclown."
        ],
        [
         "0",
         "1467812799",
         "Mon Apr 06 22:20:20 PDT 2009",
         "NO_QUERY",
         "HairByJess",
         "iamjazzyfizzle i wish i got to watch it with you!! i miss you and iamlilnicki  how was the premiere?!"
        ],
        [
         "0",
         "1467812964",
         "Mon Apr 06 22:20:22 PDT 2009",
         "NO_QUERY",
         "lovesongwriter",
         "hollis' death scene will hurt me severely to watch on film  wry is directors cut not out now?"
        ],
        [
         "0",
         "1467813137",
         "Mon Apr 06 22:20:25 PDT 2009",
         "NO_QUERY",
         "armotley",
         "about to file taxes "
        ],
        [
         "0",
         "1467813579",
         "Mon Apr 06 22:20:31 PDT 2009",
         "NO_QUERY",
         "starkissed",
         "lettya ahh ive always wanted to see rent  love the soundtrack!!"
        ],
        [
         "0",
         "1467813782",
         "Mon Apr 06 22:20:34 PDT 2009",
         "NO_QUERY",
         "gi_gi_bee",
         "fakerpattypattz oh dear. were you drinking out of the forgotten table drinks? "
        ],
        [
         "0",
         "1467813985",
         "Mon Apr 06 22:20:37 PDT 2009",
         "NO_QUERY",
         "quanvu",
         "alydesigns i was out most of the day so didn't get much done "
        ],
        [
         "0",
         "1467813992",
         "Mon Apr 06 22:20:38 PDT 2009",
         "NO_QUERY",
         "swinspeedx",
         "one of my friend called me, and asked to meet with her at mid valley today...but i've no time *sigh* "
        ],
        [
         "0",
         "1467814119",
         "Mon Apr 06 22:20:40 PDT 2009",
         "NO_QUERY",
         "cooliodoc",
         "angry_barista i baked you a cake but i ated it "
        ],
        [
         "0",
         "1467814180",
         "Mon Apr 06 22:20:40 PDT 2009",
         "NO_QUERY",
         "viJILLante",
         "this week is not going as i had hoped "
        ],
        [
         "0",
         "1467814192",
         "Mon Apr 06 22:20:41 PDT 2009",
         "NO_QUERY",
         "Ljelli3166",
         "blagh class at 8 tomorrow "
        ],
        [
         "0",
         "1467814438",
         "Mon Apr 06 22:20:44 PDT 2009",
         "NO_QUERY",
         "ChicagoCubbie",
         "i hate when i have to call and wake people up "
        ],
        [
         "0",
         "1467814783",
         "Mon Apr 06 22:20:50 PDT 2009",
         "NO_QUERY",
         "KatieAngell",
         "just going to cry myself to sleep after watching marley and me.  "
        ],
        [
         "0",
         "1467814883",
         "Mon Apr 06 22:20:52 PDT 2009",
         "NO_QUERY",
         "gagoo",
         "im sad now  miss.lilly"
        ],
        [
         "0",
         "1467815199",
         "Mon Apr 06 22:20:56 PDT 2009",
         "NO_QUERY",
         "abel209",
         "ooooh.... lol  that leslie.... and ok i won't do it again so leslie won't  get mad again "
        ],
        [
         "0",
         "1467815753",
         "Mon Apr 06 22:21:04 PDT 2009",
         "NO_QUERY",
         "BaptisteTheFool",
         "meh... almost lover is the exception... this track gets me depressed every time. "
        ],
        [
         "0",
         "1467815923",
         "Mon Apr 06 22:21:07 PDT 2009",
         "NO_QUERY",
         "fatkat309",
         "some1 hacked my account on aim  now i have to make a new one"
        ],
        [
         "0",
         "1467815924",
         "Mon Apr 06 22:21:07 PDT 2009",
         "NO_QUERY",
         "EmCDL",
         "alielayus i want to go to promote gear and groove but unfornately no ride there  i may b going to the one in anaheim in may though"
        ],
        [
         "0",
         "1467815988",
         "Mon Apr 06 22:21:09 PDT 2009",
         "NO_QUERY",
         "merisssa",
         "thought sleeping in was an option tomorrow but realizing that it now is not. evaluations in the morning and work in the afternoon! "
        ],
        [
         "0",
         "1467816149",
         "Mon Apr 06 22:21:11 PDT 2009",
         "NO_QUERY",
         "Pbearfox",
         "julieebaby awe i love you too!!!! 1 am here  i miss you"
        ],
        [
         "0",
         "1467816665",
         "Mon Apr 06 22:21:21 PDT 2009",
         "NO_QUERY",
         "jsoo",
         "humpninja i cry my asian eyes to sleep at night "
        ],
        [
         "0",
         "1467816749",
         "Mon Apr 06 22:21:20 PDT 2009",
         "NO_QUERY",
         "scarletletterm",
         "ok i'm sick and spent an hour sitting in the shower cause i was too sick to stand and held back the puke like a champ. bed now "
        ],
        [
         "0",
         "1467817225",
         "Mon Apr 06 22:21:27 PDT 2009",
         "NO_QUERY",
         "crosland_12",
         "cocomix04 ill tell ya the story later  not a good day and ill be workin for like three more hours..."
        ],
        [
         "0",
         "1467817374",
         "Mon Apr 06 22:21:30 PDT 2009",
         "NO_QUERY",
         "ajaxpro",
         "missxu sorry! bed time came here (gmt+1)   http://is.gd/fnge"
        ],
        [
         "0",
         "1467817502",
         "Mon Apr 06 22:21:32 PDT 2009",
         "NO_QUERY",
         "Tmttq86",
         "fleurylis i don't either. its depressing. i don't think i even want to know about the kids in suitcases. "
        ],
        [
         "0",
         "1467818007",
         "Mon Apr 06 22:21:39 PDT 2009",
         "NO_QUERY",
         "Anthony_Nguyen",
         "bed. class 8-12. work 12-3. gym 3-5 or 6. then class 6-10. another day that's gonna fly by. i miss my girlfriend "
        ],
        [
         "0",
         "1467818020",
         "Mon Apr 06 22:21:39 PDT 2009",
         "NO_QUERY",
         "itsanimesh",
         "really don't feel like getting up today... but got to study to for tomorrows practical exam... "
        ],
        [
         "0",
         "1467818481",
         "Mon Apr 06 22:21:46 PDT 2009",
         "NO_QUERY",
         "lionslamb",
         "he's the reason for the teardrops on my guitar the only one who has enough of me to break my heart "
        ],
        [
         "0",
         "1467818603",
         "Mon Apr 06 22:21:49 PDT 2009",
         "NO_QUERY",
         "kennypham",
         "sad, sad, sad. i don't know why but i hate this feeling  i wanna sleep and i still can't!"
        ],
        [
         "0",
         "1467818900",
         "Mon Apr 06 22:21:53 PDT 2009",
         "NO_QUERY",
         "DdubsShellBell",
         "jonathanrknight awww i soo wish i was there to see you finally comfortable! im sad that i missed it "
        ],
        [
         "0",
         "1467819022",
         "Mon Apr 06 22:21:56 PDT 2009",
         "NO_QUERY",
         "hpfangirl94",
         "falling asleep. just heard about that tracy girl's body being found. how sad  my heart breaks for that family."
        ],
        [
         "0",
         "1467819650",
         "Mon Apr 06 22:22:05 PDT 2009",
         "NO_QUERY",
         "antzpantz",
         "viennah yay! i'm happy for you with your job! but that also means less time for me and you... "
        ],
        [
         "0",
         "1467819712",
         "Mon Apr 06 22:22:06 PDT 2009",
         "NO_QUERY",
         "labrt2004",
         "just checked my user timeline on my blackberry, it looks like the twanking is still happening  are ppl still having probs w/ bgs and uids?"
        ],
        [
         "0",
         "1467819812",
         "Mon Apr 06 22:22:07 PDT 2009",
         "NO_QUERY",
         "IrisJumbe",
         "oh man...was ironing jeancjumbe's fave top to wear to a meeting. burnt it "
        ],
        [
         "0",
         "1467820206",
         "Mon Apr 06 22:22:13 PDT 2009",
         "NO_QUERY",
         "peacoats",
         "is strangely sad about lilo and samro breaking up. "
        ],
        [
         "0",
         "1467820835",
         "Mon Apr 06 22:22:25 PDT 2009",
         "NO_QUERY",
         "cyantist",
         "tea oh! i'm so sorry  i didn't think about that before retweeting."
        ]
       ],
       "shape": {
        "columns": 5,
        "rows": 1600000
       }
      },
      "text/html": [
       "<div>\n",
       "<style scoped>\n",
       "    .dataframe tbody tr th:only-of-type {\n",
       "        vertical-align: middle;\n",
       "    }\n",
       "\n",
       "    .dataframe tbody tr th {\n",
       "        vertical-align: top;\n",
       "    }\n",
       "\n",
       "    .dataframe thead th {\n",
       "        text-align: right;\n",
       "    }\n",
       "</style>\n",
       "<table border=\"1\" class=\"dataframe\">\n",
       "  <thead>\n",
       "    <tr style=\"text-align: right;\">\n",
       "      <th></th>\n",
       "      <th>uno</th>\n",
       "      <th>dos</th>\n",
       "      <th>tres</th>\n",
       "      <th>cuatro</th>\n",
       "      <th>cinco</th>\n",
       "    </tr>\n",
       "  </thead>\n",
       "  <tbody>\n",
       "    <tr>\n",
       "      <th>0</th>\n",
       "      <td>1467810369</td>\n",
       "      <td>Mon Apr 06 22:19:45 PDT 2009</td>\n",
       "      <td>NO_QUERY</td>\n",
       "      <td>_TheSpecialOne_</td>\n",
       "      <td>switchfoot http://twitpic.com/2y1zl - awww, th...</td>\n",
       "    </tr>\n",
       "    <tr>\n",
       "      <th>0</th>\n",
       "      <td>1467810672</td>\n",
       "      <td>Mon Apr 06 22:19:49 PDT 2009</td>\n",
       "      <td>NO_QUERY</td>\n",
       "      <td>scotthamilton</td>\n",
       "      <td>is upset that he can't update his facebook by ...</td>\n",
       "    </tr>\n",
       "    <tr>\n",
       "      <th>0</th>\n",
       "      <td>1467810917</td>\n",
       "      <td>Mon Apr 06 22:19:53 PDT 2009</td>\n",
       "      <td>NO_QUERY</td>\n",
       "      <td>mattycus</td>\n",
       "      <td>kenichan i dived many times for the ball. mana...</td>\n",
       "    </tr>\n",
       "    <tr>\n",
       "      <th>0</th>\n",
       "      <td>1467811184</td>\n",
       "      <td>Mon Apr 06 22:19:57 PDT 2009</td>\n",
       "      <td>NO_QUERY</td>\n",
       "      <td>ElleCTF</td>\n",
       "      <td>my whole body feels itchy and like its on fire</td>\n",
       "    </tr>\n",
       "    <tr>\n",
       "      <th>0</th>\n",
       "      <td>1467811193</td>\n",
       "      <td>Mon Apr 06 22:19:57 PDT 2009</td>\n",
       "      <td>NO_QUERY</td>\n",
       "      <td>Karoli</td>\n",
       "      <td>nationwideclass no, it's not behaving at all. ...</td>\n",
       "    </tr>\n",
       "    <tr>\n",
       "      <th>...</th>\n",
       "      <td>...</td>\n",
       "      <td>...</td>\n",
       "      <td>...</td>\n",
       "      <td>...</td>\n",
       "      <td>...</td>\n",
       "    </tr>\n",
       "    <tr>\n",
       "      <th>4</th>\n",
       "      <td>2193601966</td>\n",
       "      <td>Tue Jun 16 08:40:49 PDT 2009</td>\n",
       "      <td>NO_QUERY</td>\n",
       "      <td>AmandaMarie1028</td>\n",
       "      <td>just woke up. having no school is the best fee...</td>\n",
       "    </tr>\n",
       "    <tr>\n",
       "      <th>4</th>\n",
       "      <td>2193601969</td>\n",
       "      <td>Tue Jun 16 08:40:49 PDT 2009</td>\n",
       "      <td>NO_QUERY</td>\n",
       "      <td>TheWDBoards</td>\n",
       "      <td>thewdb.com - very cool to hear old walt interv...</td>\n",
       "    </tr>\n",
       "    <tr>\n",
       "      <th>4</th>\n",
       "      <td>2193601991</td>\n",
       "      <td>Tue Jun 16 08:40:49 PDT 2009</td>\n",
       "      <td>NO_QUERY</td>\n",
       "      <td>bpbabe</td>\n",
       "      <td>are you ready for your mojo makeover? ask me f...</td>\n",
       "    </tr>\n",
       "    <tr>\n",
       "      <th>4</th>\n",
       "      <td>2193602064</td>\n",
       "      <td>Tue Jun 16 08:40:49 PDT 2009</td>\n",
       "      <td>NO_QUERY</td>\n",
       "      <td>tinydiamondz</td>\n",
       "      <td>happy 38th birthday to my boo of alll time!!! ...</td>\n",
       "    </tr>\n",
       "    <tr>\n",
       "      <th>4</th>\n",
       "      <td>2193602129</td>\n",
       "      <td>Tue Jun 16 08:40:50 PDT 2009</td>\n",
       "      <td>NO_QUERY</td>\n",
       "      <td>RyanTrevMorris</td>\n",
       "      <td>happy #charitytuesday thenspcc sparkscharity s...</td>\n",
       "    </tr>\n",
       "  </tbody>\n",
       "</table>\n",
       "<p>1600000 rows × 5 columns</p>\n",
       "</div>"
      ],
      "text/plain": [
       "           uno                           dos      tres           cuatro  \\\n",
       "0   1467810369  Mon Apr 06 22:19:45 PDT 2009  NO_QUERY  _TheSpecialOne_   \n",
       "0   1467810672  Mon Apr 06 22:19:49 PDT 2009  NO_QUERY    scotthamilton   \n",
       "0   1467810917  Mon Apr 06 22:19:53 PDT 2009  NO_QUERY         mattycus   \n",
       "0   1467811184  Mon Apr 06 22:19:57 PDT 2009  NO_QUERY          ElleCTF   \n",
       "0   1467811193  Mon Apr 06 22:19:57 PDT 2009  NO_QUERY           Karoli   \n",
       "..         ...                           ...       ...              ...   \n",
       "4   2193601966  Tue Jun 16 08:40:49 PDT 2009  NO_QUERY  AmandaMarie1028   \n",
       "4   2193601969  Tue Jun 16 08:40:49 PDT 2009  NO_QUERY      TheWDBoards   \n",
       "4   2193601991  Tue Jun 16 08:40:49 PDT 2009  NO_QUERY           bpbabe   \n",
       "4   2193602064  Tue Jun 16 08:40:49 PDT 2009  NO_QUERY     tinydiamondz   \n",
       "4   2193602129  Tue Jun 16 08:40:50 PDT 2009  NO_QUERY   RyanTrevMorris   \n",
       "\n",
       "                                                cinco  \n",
       "0   switchfoot http://twitpic.com/2y1zl - awww, th...  \n",
       "0   is upset that he can't update his facebook by ...  \n",
       "0   kenichan i dived many times for the ball. mana...  \n",
       "0     my whole body feels itchy and like its on fire   \n",
       "0   nationwideclass no, it's not behaving at all. ...  \n",
       "..                                                ...  \n",
       "4   just woke up. having no school is the best fee...  \n",
       "4   thewdb.com - very cool to hear old walt interv...  \n",
       "4   are you ready for your mojo makeover? ask me f...  \n",
       "4   happy 38th birthday to my boo of alll time!!! ...  \n",
       "4   happy #charitytuesday thenspcc sparkscharity s...  \n",
       "\n",
       "[1600000 rows x 5 columns]"
      ]
     },
     "execution_count": 19,
     "metadata": {},
     "output_type": "execute_result"
    }
   ],
   "source": [
    "df['cinco'] = df['cinco'].str.lower()\n",
    "\n",
    "df"
   ]
  },
  {
   "cell_type": "code",
   "execution_count": 20,
   "id": "64cc967c",
   "metadata": {},
   "outputs": [
    {
     "data": {
      "text/plain": [
       "Sentiment(polarity=1.0, subjectivity=1.0)"
      ]
     },
     "execution_count": 20,
     "metadata": {},
     "output_type": "execute_result"
    }
   ],
   "source": [
    "prueba_testeo = TextBlob(\"im very happy\")\n",
    "prueba_testeo.sentiment"
   ]
  },
  {
   "cell_type": "code",
   "execution_count": 21,
   "id": "667e969a",
   "metadata": {},
   "outputs": [],
   "source": [
    "with open('../data/testblob.txt','w') as file:\n",
    "    for i in df['cinco']:\n",
    "        testeo = TextBlob(i)\n",
    "        text = testeo.sentiment.polarity \n",
    "        if text >= 1.0:\n",
    "            sentimiento = 'positivo'\n",
    "        elif text <= 0.0:\n",
    "            sentimiento = 'negativo'\n",
    "        else:\n",
    "            sentimiento ='neutro'\n",
    "\n",
    "       \n",
    "        file.write(f'{sentimiento}\\n')\n",
    "        #print(sentimiento)\n",
    "                \n",
    "        "
   ]
  },
  {
   "cell_type": "markdown",
   "id": "3bd0a409",
   "metadata": {},
   "source": [
    "# VADER"
   ]
  },
  {
   "cell_type": "code",
   "execution_count": 22,
   "id": "0ad9398c",
   "metadata": {},
   "outputs": [
    {
     "name": "stderr",
     "output_type": "stream",
     "text": [
      "[nltk_data] Downloading package vader_lexicon to\n",
      "[nltk_data]     /home/angie/nltk_data...\n",
      "[nltk_data]   Package vader_lexicon is already up-to-date!\n"
     ]
    },
    {
     "data": {
      "text/plain": [
       "True"
      ]
     },
     "execution_count": 22,
     "metadata": {},
     "output_type": "execute_result"
    }
   ],
   "source": [
    "nltk.download('vader_lexicon')"
   ]
  },
  {
   "cell_type": "code",
   "execution_count": 23,
   "id": "757b6cb1",
   "metadata": {},
   "outputs": [],
   "source": [
    "with open('../data/vader.txt','w') as file:\n",
    "    analizer = SentimentIntensityAnalyzer()\n",
    "    for i in df['cinco']:\n",
    "        data = analizer.polarity_scores(i)\n",
    "\n",
    "        compound = data['compound']\n",
    "\n",
    "        if compound >= 0.5:\n",
    "            polaridad = 'positivo'\n",
    "        elif compound <= 0.05:\n",
    "            polaridad = 'Negativo'\n",
    "        else:\n",
    "            polaridad = 'neutro'\n",
    "\n",
    "        file.write(f'{polaridad}\\n')"
   ]
  },
  {
   "cell_type": "markdown",
   "id": "a522bf6d",
   "metadata": {},
   "source": [
    "# dataframe\n"
   ]
  },
  {
   "cell_type": "code",
   "execution_count": 98,
   "id": "22328fd1",
   "metadata": {},
   "outputs": [],
   "source": [
    "resultado = []\n",
    "resultado = {\n",
    "    'original': df['cinco'],\n",
    "    'textblob':text,\n",
    "    'vader':compound,\n",
    "\n",
    "}\n"
   ]
  },
  {
   "cell_type": "code",
   "execution_count": 99,
   "id": "e10c9ef2",
   "metadata": {},
   "outputs": [
    {
     "data": {
      "application/vnd.microsoft.datawrangler.viewer.v0+json": {
       "columns": [
        {
         "name": "index",
         "rawType": "int64",
         "type": "integer"
        },
        {
         "name": "original",
         "rawType": "object",
         "type": "string"
        },
        {
         "name": "textblob",
         "rawType": "float64",
         "type": "float"
        },
        {
         "name": "vader",
         "rawType": "float64",
         "type": "float"
        }
       ],
       "ref": "ae6a0ab5-b576-47aa-9d79-2ba9ff366b8d",
       "rows": [
        [
         "0",
         "switchfoot http://twitpic.com/2y1zl - awww, that's a bummer.  you shoulda got david carr of third day to do it. ;d",
         "0.8",
         "0.5719"
        ],
        [
         "0",
         "is upset that he can't update his facebook by texting it... and might cry as a result  school today also. blah!",
         "0.8",
         "0.5719"
        ],
        [
         "0",
         "kenichan i dived many times for the ball. managed to save 50%  the rest go out of bounds",
         "0.8",
         "0.5719"
        ],
        [
         "0",
         "my whole body feels itchy and like its on fire ",
         "0.8",
         "0.5719"
        ],
        [
         "0",
         "nationwideclass no, it's not behaving at all. i'm mad. why am i here? because i can't see you all over there. ",
         "0.8",
         "0.5719"
        ],
        [
         "0",
         "kwesidei not the whole crew ",
         "0.8",
         "0.5719"
        ],
        [
         "0",
         "need a hug ",
         "0.8",
         "0.5719"
        ],
        [
         "0",
         "loltrish hey  long time no see! yes.. rains a bit ,only a bit  lol , i'm fine thanks , how's you ?",
         "0.8",
         "0.5719"
        ],
        [
         "0",
         "tatiana_k nope they didn't have it ",
         "0.8",
         "0.5719"
        ],
        [
         "0",
         "twittera que me muera ? ",
         "0.8",
         "0.5719"
        ],
        [
         "0",
         "spring break in plain city... it's snowing ",
         "0.8",
         "0.5719"
        ],
        [
         "0",
         "i just re-pierced my ears ",
         "0.8",
         "0.5719"
        ],
        [
         "0",
         "caregiving i couldn't bear to watch it.  and i thought the ua loss was embarrassing . . . . .",
         "0.8",
         "0.5719"
        ],
        [
         "0",
         "octolinz16 it it counts, idk why i did either. you never talk to me anymore ",
         "0.8",
         "0.5719"
        ],
        [
         "0",
         "smarrison i would've been the first, but i didn't have a gun.    not really though, zac snyder's just a doucheclown.",
         "0.8",
         "0.5719"
        ],
        [
         "0",
         "iamjazzyfizzle i wish i got to watch it with you!! i miss you and iamlilnicki  how was the premiere?!",
         "0.8",
         "0.5719"
        ],
        [
         "0",
         "hollis' death scene will hurt me severely to watch on film  wry is directors cut not out now?",
         "0.8",
         "0.5719"
        ],
        [
         "0",
         "about to file taxes ",
         "0.8",
         "0.5719"
        ],
        [
         "0",
         "lettya ahh ive always wanted to see rent  love the soundtrack!!",
         "0.8",
         "0.5719"
        ],
        [
         "0",
         "fakerpattypattz oh dear. were you drinking out of the forgotten table drinks? ",
         "0.8",
         "0.5719"
        ],
        [
         "0",
         "alydesigns i was out most of the day so didn't get much done ",
         "0.8",
         "0.5719"
        ],
        [
         "0",
         "one of my friend called me, and asked to meet with her at mid valley today...but i've no time *sigh* ",
         "0.8",
         "0.5719"
        ],
        [
         "0",
         "angry_barista i baked you a cake but i ated it ",
         "0.8",
         "0.5719"
        ],
        [
         "0",
         "this week is not going as i had hoped ",
         "0.8",
         "0.5719"
        ],
        [
         "0",
         "blagh class at 8 tomorrow ",
         "0.8",
         "0.5719"
        ],
        [
         "0",
         "i hate when i have to call and wake people up ",
         "0.8",
         "0.5719"
        ],
        [
         "0",
         "just going to cry myself to sleep after watching marley and me.  ",
         "0.8",
         "0.5719"
        ],
        [
         "0",
         "im sad now  miss.lilly",
         "0.8",
         "0.5719"
        ],
        [
         "0",
         "ooooh.... lol  that leslie.... and ok i won't do it again so leslie won't  get mad again ",
         "0.8",
         "0.5719"
        ],
        [
         "0",
         "meh... almost lover is the exception... this track gets me depressed every time. ",
         "0.8",
         "0.5719"
        ],
        [
         "0",
         "some1 hacked my account on aim  now i have to make a new one",
         "0.8",
         "0.5719"
        ],
        [
         "0",
         "alielayus i want to go to promote gear and groove but unfornately no ride there  i may b going to the one in anaheim in may though",
         "0.8",
         "0.5719"
        ],
        [
         "0",
         "thought sleeping in was an option tomorrow but realizing that it now is not. evaluations in the morning and work in the afternoon! ",
         "0.8",
         "0.5719"
        ],
        [
         "0",
         "julieebaby awe i love you too!!!! 1 am here  i miss you",
         "0.8",
         "0.5719"
        ],
        [
         "0",
         "humpninja i cry my asian eyes to sleep at night ",
         "0.8",
         "0.5719"
        ],
        [
         "0",
         "ok i'm sick and spent an hour sitting in the shower cause i was too sick to stand and held back the puke like a champ. bed now ",
         "0.8",
         "0.5719"
        ],
        [
         "0",
         "cocomix04 ill tell ya the story later  not a good day and ill be workin for like three more hours...",
         "0.8",
         "0.5719"
        ],
        [
         "0",
         "missxu sorry! bed time came here (gmt+1)   http://is.gd/fnge",
         "0.8",
         "0.5719"
        ],
        [
         "0",
         "fleurylis i don't either. its depressing. i don't think i even want to know about the kids in suitcases. ",
         "0.8",
         "0.5719"
        ],
        [
         "0",
         "bed. class 8-12. work 12-3. gym 3-5 or 6. then class 6-10. another day that's gonna fly by. i miss my girlfriend ",
         "0.8",
         "0.5719"
        ],
        [
         "0",
         "really don't feel like getting up today... but got to study to for tomorrows practical exam... ",
         "0.8",
         "0.5719"
        ],
        [
         "0",
         "he's the reason for the teardrops on my guitar the only one who has enough of me to break my heart ",
         "0.8",
         "0.5719"
        ],
        [
         "0",
         "sad, sad, sad. i don't know why but i hate this feeling  i wanna sleep and i still can't!",
         "0.8",
         "0.5719"
        ],
        [
         "0",
         "jonathanrknight awww i soo wish i was there to see you finally comfortable! im sad that i missed it ",
         "0.8",
         "0.5719"
        ],
        [
         "0",
         "falling asleep. just heard about that tracy girl's body being found. how sad  my heart breaks for that family.",
         "0.8",
         "0.5719"
        ],
        [
         "0",
         "viennah yay! i'm happy for you with your job! but that also means less time for me and you... ",
         "0.8",
         "0.5719"
        ],
        [
         "0",
         "just checked my user timeline on my blackberry, it looks like the twanking is still happening  are ppl still having probs w/ bgs and uids?",
         "0.8",
         "0.5719"
        ],
        [
         "0",
         "oh man...was ironing jeancjumbe's fave top to wear to a meeting. burnt it ",
         "0.8",
         "0.5719"
        ],
        [
         "0",
         "is strangely sad about lilo and samro breaking up. ",
         "0.8",
         "0.5719"
        ],
        [
         "0",
         "tea oh! i'm so sorry  i didn't think about that before retweeting.",
         "0.8",
         "0.5719"
        ]
       ],
       "shape": {
        "columns": 3,
        "rows": 1600000
       }
      },
      "text/html": [
       "<div>\n",
       "<style scoped>\n",
       "    .dataframe tbody tr th:only-of-type {\n",
       "        vertical-align: middle;\n",
       "    }\n",
       "\n",
       "    .dataframe tbody tr th {\n",
       "        vertical-align: top;\n",
       "    }\n",
       "\n",
       "    .dataframe thead th {\n",
       "        text-align: right;\n",
       "    }\n",
       "</style>\n",
       "<table border=\"1\" class=\"dataframe\">\n",
       "  <thead>\n",
       "    <tr style=\"text-align: right;\">\n",
       "      <th></th>\n",
       "      <th>original</th>\n",
       "      <th>textblob</th>\n",
       "      <th>vader</th>\n",
       "    </tr>\n",
       "  </thead>\n",
       "  <tbody>\n",
       "    <tr>\n",
       "      <th>0</th>\n",
       "      <td>switchfoot http://twitpic.com/2y1zl - awww, th...</td>\n",
       "      <td>0.8</td>\n",
       "      <td>0.5719</td>\n",
       "    </tr>\n",
       "    <tr>\n",
       "      <th>0</th>\n",
       "      <td>is upset that he can't update his facebook by ...</td>\n",
       "      <td>0.8</td>\n",
       "      <td>0.5719</td>\n",
       "    </tr>\n",
       "    <tr>\n",
       "      <th>0</th>\n",
       "      <td>kenichan i dived many times for the ball. mana...</td>\n",
       "      <td>0.8</td>\n",
       "      <td>0.5719</td>\n",
       "    </tr>\n",
       "    <tr>\n",
       "      <th>0</th>\n",
       "      <td>my whole body feels itchy and like its on fire</td>\n",
       "      <td>0.8</td>\n",
       "      <td>0.5719</td>\n",
       "    </tr>\n",
       "    <tr>\n",
       "      <th>0</th>\n",
       "      <td>nationwideclass no, it's not behaving at all. ...</td>\n",
       "      <td>0.8</td>\n",
       "      <td>0.5719</td>\n",
       "    </tr>\n",
       "    <tr>\n",
       "      <th>...</th>\n",
       "      <td>...</td>\n",
       "      <td>...</td>\n",
       "      <td>...</td>\n",
       "    </tr>\n",
       "    <tr>\n",
       "      <th>4</th>\n",
       "      <td>just woke up. having no school is the best fee...</td>\n",
       "      <td>0.8</td>\n",
       "      <td>0.5719</td>\n",
       "    </tr>\n",
       "    <tr>\n",
       "      <th>4</th>\n",
       "      <td>thewdb.com - very cool to hear old walt interv...</td>\n",
       "      <td>0.8</td>\n",
       "      <td>0.5719</td>\n",
       "    </tr>\n",
       "    <tr>\n",
       "      <th>4</th>\n",
       "      <td>are you ready for your mojo makeover? ask me f...</td>\n",
       "      <td>0.8</td>\n",
       "      <td>0.5719</td>\n",
       "    </tr>\n",
       "    <tr>\n",
       "      <th>4</th>\n",
       "      <td>happy 38th birthday to my boo of alll time!!! ...</td>\n",
       "      <td>0.8</td>\n",
       "      <td>0.5719</td>\n",
       "    </tr>\n",
       "    <tr>\n",
       "      <th>4</th>\n",
       "      <td>happy #charitytuesday thenspcc sparkscharity s...</td>\n",
       "      <td>0.8</td>\n",
       "      <td>0.5719</td>\n",
       "    </tr>\n",
       "  </tbody>\n",
       "</table>\n",
       "<p>1600000 rows × 3 columns</p>\n",
       "</div>"
      ],
      "text/plain": [
       "                                             original  textblob   vader\n",
       "0   switchfoot http://twitpic.com/2y1zl - awww, th...       0.8  0.5719\n",
       "0   is upset that he can't update his facebook by ...       0.8  0.5719\n",
       "0   kenichan i dived many times for the ball. mana...       0.8  0.5719\n",
       "0     my whole body feels itchy and like its on fire        0.8  0.5719\n",
       "0   nationwideclass no, it's not behaving at all. ...       0.8  0.5719\n",
       "..                                                ...       ...     ...\n",
       "4   just woke up. having no school is the best fee...       0.8  0.5719\n",
       "4   thewdb.com - very cool to hear old walt interv...       0.8  0.5719\n",
       "4   are you ready for your mojo makeover? ask me f...       0.8  0.5719\n",
       "4   happy 38th birthday to my boo of alll time!!! ...       0.8  0.5719\n",
       "4   happy #charitytuesday thenspcc sparkscharity s...       0.8  0.5719\n",
       "\n",
       "[1600000 rows x 3 columns]"
      ]
     },
     "execution_count": 99,
     "metadata": {},
     "output_type": "execute_result"
    }
   ],
   "source": [
    "datos = pd.DataFrame(resultado)\n",
    "datos"
   ]
  },
  {
   "cell_type": "code",
   "execution_count": null,
   "id": "6dd919af",
   "metadata": {},
   "outputs": [
    {
     "data": {
      "text/plain": [
       "np.float64(1280000.0)"
      ]
     },
     "execution_count": 91,
     "metadata": {},
     "output_type": "execute_result"
    }
   ],
   "source": [
    "import numpy as np\n",
    "\n",
    "x = datos['textblob'].sum()\n",
    "y = datos['vader'].sum()\n",
    "\n"
   ]
  },
  {
   "cell_type": "code",
   "execution_count": 100,
   "id": "788435af",
   "metadata": {},
   "outputs": [
    {
     "data": {
      "image/png": "[encoded data removed]",
      "text/plain": [
       "<Figure size 640x480 with 1 Axes>"
      ]
     },
     "metadata": {},
     "output_type": "display_data"
    }
   ],
   "source": [
    "metodo = ['TextBlob','VADER']\n",
    "valores = [x,y]\n",
    "\n",
    "plt.bar(metodo,valores,color='blue')\n",
    "plt.title(\"clasificador de sentimientos\")\n",
    "plt.xlabel(\"suma polaridad\")\n",
    "plt.ylabel(\"comparacion textblob vader\")\n",
    "plt.grid(False)\n",
    "plt.show()"
   ]
  }
 ],
 "metadata": {
  "kernelspec": {
   "display_name": ".venv",
   "language": "python",
   "name": "python3"
  },
  "language_info": {
   "codemirror_mode": {
    "name": "ipython",
    "version": 3
   },
   "file_extension": ".py",
   "mimetype": "text/x-python",
   "name": "python",
   "nbconvert_exporter": "python",
   "pygments_lexer": "ipython3",
   "version": "3.12.3"
  }
 },
 "nbformat": 4,
 "nbformat_minor": 5
}
